{
 "cells": [
  {
   "attachments": {},
   "cell_type": "markdown",
   "metadata": {},
   "source": [
    "part 3 is for exploratory data analysis (EDA) of classes which have less scores than other respective classes & adjusting these classes' images respectively"
   ]
  },
  {
   "attachments": {},
   "cell_type": "markdown",
   "metadata": {},
   "source": [
    "# Imports"
   ]
  },
  {
   "cell_type": "code",
   "execution_count": 2,
   "metadata": {},
   "outputs": [],
   "source": [
    "from numpy.random import seed\n",
    "seed(42)\n",
    "import tensorflow as tf\n",
    "tf.random.set_seed(42)\n",
    "\n",
    "import pandas as pd\n",
    "import numpy as np\n",
    "\n",
    "import string\n",
    "import logging\n",
    "import regex as re\n",
    "import pickle\n",
    "import os\n",
    "import glob\n",
    "import base64\n",
    "\n",
    "from IPython.display import display\n",
    "import matplotlib.pyplot  as plt\n",
    "from PIL import Image, ImageFile, ImageOps, ImageDraw\n",
    "from pathlib import Path\n",
    "\n",
    "import cufflinks as cf\n",
    "import chart_studio.plotly as py\n",
    "import plotly.express as px\n",
    "import plotly.graph_objects as go\n",
    "import plotly.figure_factory as ff\n",
    "import plotly.io as pio\n",
    "from plotly.offline import init_notebook_mode\n",
    "\n",
    "from tqdm.notebook import tqdm\n",
    "from collections import Counter\n",
    "from keras_preprocessing.image import ImageDataGenerator\n",
    "from sklearn.model_selection import train_test_split\n",
    "from concurrent.futures import ThreadPoolExecutor, as_completed, wait\n",
    "from functools import partial"
   ]
  },
  {
   "attachments": {},
   "cell_type": "markdown",
   "metadata": {},
   "source": [
    "# Global Variables & Functions"
   ]
  },
  {
   "cell_type": "code",
   "execution_count": 3,
   "metadata": {},
   "outputs": [
    {
     "data": {
      "text/plain": [
       "['00. selfies',\n",
       " '10. fmemes',\n",
       " '20. ememes',\n",
       " '30. fSocialMedia',\n",
       " '40. eSocialMedia',\n",
       " '50. fTxtMssgs',\n",
       " '70. eGreetingAndMisc',\n",
       " '81. academicPhotos',\n",
       " '82. academicDigital']"
      ]
     },
     "execution_count": 3,
     "metadata": {},
     "output_type": "execute_result"
    }
   ],
   "source": [
    "dataDir = 'dataset/'\n",
    "dataReDir = 'dataset_related/'\n",
    "imgTypes = list(filter(lambda v: re.match('\\d{1,3}\\. ', v), os.listdir(dataDir)))\n",
    "imgTypes"
   ]
  },
  {
   "cell_type": "code",
   "execution_count": 4,
   "metadata": {},
   "outputs": [],
   "source": [
    "def pklSave(contentToBeSaved, fullPath):\n",
    "    with open(fullPath, 'wb') as f:\n",
    "        pickle.dump(contentToBeSaved, f)\n",
    "\n",
    "def pklLoad(fullPath):\n",
    "    with open(fullPath, 'rb') as f:\n",
    "        content = pickle.load(f)\n",
    "    return content\n",
    "\n",
    "def pklForceLoad(path, dtype = 'dict'):\n",
    "    try:\n",
    "        content = pklLoad(path)\n",
    "        return content\n",
    "    except Exception as e:\n",
    "        if dtype == 'list':\n",
    "            pklSave([], path)\n",
    "            return []\n",
    "        else:\n",
    "            pklSave({}, path)\n",
    "            return {}\n",
    "\n",
    "# more about naming standards for path components here: https://stackoverflow.com/questions/2235173/what-is-the-naming-standard-for-path-components\n",
    "def joinPaths(baseDirectory, relativePath):\n",
    "    return os.path.normpath(os.path.join(baseDirectory, relativePath))\n",
    "\n",
    "def changeSep(path, newSep, oldSep=os.path.sep): \n",
    "    # source: https://stackoverflow.com/questions/18707338/print-raw-string-from-variable-not-getting-the-answers#:~:text=To%20turn%20a%20variable%20to%20raw%20str%2C%20just%20use\n",
    "    return os.path.normpath(rf\"{path}\").replace(os.path.sep, newSep) # source: https://mail.python.org/pipermail/tutor/2011-July/084788.html\n",
    "\n",
    "def pillowOpenOriented(path):\n",
    "    img = Image.open(path)\n",
    "    return ImageOps.exif_transpose(img)"
   ]
  },
  {
   "attachments": {},
   "cell_type": "markdown",
   "metadata": {},
   "source": [
    "## Setting up images and Labels' dictionaries"
   ]
  },
  {
   "cell_type": "code",
   "execution_count": 5,
   "metadata": {},
   "outputs": [
    {
     "data": {
      "text/plain": [
       "{'00. selfies': 0,\n",
       " '10. fmemes': 1,\n",
       " '20. ememes': 2,\n",
       " '30. fSocialMedia': 3,\n",
       " '40. eSocialMedia': 4,\n",
       " '50. fTxtMssgs': 5,\n",
       " '70. eGreetingAndMisc': 6,\n",
       " '81. academicPhotos': 7,\n",
       " '82. academicDigital': 8}"
      ]
     },
     "execution_count": 5,
     "metadata": {},
     "output_type": "execute_result"
    }
   ],
   "source": [
    "imgTypeToNum = pklLoad('./dataset_related./imgTypeToNum.pickle')\n",
    "numToImgType = {}\n",
    "for  i, type in enumerate(imgTypes):\n",
    "    imgTypeToNum[type] = i\n",
    "    numToImgType[i] = type\n",
    "imgTypeToNum"
   ]
  },
  {
   "cell_type": "code",
   "execution_count": null,
   "metadata": {},
   "outputs": [],
   "source": []
  }
 ],
 "metadata": {
  "kernelspec": {
   "display_name": "Python 3",
   "language": "python",
   "name": "python3"
  },
  "language_info": {
   "codemirror_mode": {
    "name": "ipython",
    "version": 3
   },
   "file_extension": ".py",
   "mimetype": "text/x-python",
   "name": "python",
   "nbconvert_exporter": "python",
   "pygments_lexer": "ipython3",
   "version": "3.9.15"
  },
  "toc": {
   "base_numbering": 1,
   "nav_menu": {},
   "number_sections": true,
   "sideBar": true,
   "skip_h1_title": false,
   "title_cell": "Table of Contents",
   "title_sidebar": "Contents",
   "toc_cell": true,
   "toc_position": {},
   "toc_section_display": true,
   "toc_window_display": false
  },
  "vscode": {
   "interpreter": {
    "hash": "23be188ee6fe2f0c31fd0001daddf21d657fa964fc385f0b530b3529f72211b4"
   }
  }
 },
 "nbformat": 4,
 "nbformat_minor": 2
}
