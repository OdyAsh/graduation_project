{
 "cells": [
  {
   "attachments": {},
   "cell_type": "markdown",
   "metadata": {},
   "source": [
    "# Undersampling Images\n",
    "Since our partially scraped dataset is considered imbalanced, which can be verified by looking at the image below, we therefore choose to undersample images in the `selfies` and `fmemes` folders to 15K each."
   ]
  },
  {
   "attachments": {},
   "cell_type": "markdown",
   "metadata": {},
   "source": [
    "## Undersampling `selfies` Folder"
   ]
  },
  {
   "cell_type": "code",
   "execution_count": null,
   "metadata": {},
   "outputs": [],
   "source": [
    "# to do: form clusters and grab 15K/#cluster instances per cluster? or grab images where faces appear properly?"
   ]
  },
  {
   "attachments": {},
   "cell_type": "markdown",
   "metadata": {},
   "source": [
    "## Undersampling `fmemes` Folder"
   ]
  },
  {
   "cell_type": "code",
   "execution_count": null,
   "metadata": {},
   "outputs": [],
   "source": [
    "# to do: get memegenerator.csv file into a df, then for each unique \"base name\" value, grab min(curr_value's_instances, 15K/#unique_values urls)\n",
    "# Then: download all of the stored URLs"
   ]
  },
  {
   "attachments": {},
   "cell_type": "markdown",
   "metadata": {},
   "source": [
    "# Removing Images of Incorrect Categories\n",
    "Some of the folders include images that should be deleted or moved to other directories. The following is an example on the `fFBPosts` folder: <br><br>\n",
    "<img src=\"../project_media/12. misplaced fb images.png\" />\n",
    "<br><br>\n",
    "As you can see, we want to discard non-facebook images like the one on the left. <br>\n",
    "Therefore, the following sub sections will be about removing those images in each folder except `selfies` and `fmemes`, as they are obtained from online datasets (i.e., not manually scraped) and therefore do not have misplacements. In addition, they were manually validated to confirm the unnecessity of checking misplacements."
   ]
  },
  {
   "attachments": {},
   "cell_type": "markdown",
   "metadata": {},
   "source": [
    "## Incorrect images in `ememes`\n",
    "In the ememes folder, we have multiple of types of images as can be seen by the image below: <br><br>\n",
    "<img src=\"../project_media/13. misplaced ememes images.png\" width=750 />\n",
    "<br><br>\n",
    "we can therefore notice the following types of images: <br>\n",
    "- Meme templates, which are memes that do not contain text (1)\n",
    "- Memes which mainly consist of a person's face (2)\n",
    "- Memes that are actually screenshots of social media posts or text messages (3)\n",
    "- Memes that resemble images of type (3) but are actually memes (5)\n",
    "- Memes that consist of text superimposed on meme templates (6)  \n",
    "What we're interested in are images of type (5) and (6). Other images will therefore be moved to a temporary folder for further manual inspection"
   ]
  },
  {
   "cell_type": "code",
   "execution_count": null,
   "metadata": {},
   "outputs": [],
   "source": []
  },
  {
   "attachments": {},
   "cell_type": "markdown",
   "metadata": {},
   "source": [
    "## Incorrect images in `eSocialMedia`\n",
    "In the eSocialMedia folder, we have multiple of types of images as can be seen by the image below: <br><br>\n",
    "<img src=\"../project_media/14. misplaced eSocialMedia images.png\" width=550 />\n",
    "<br><br>\n",
    "we can therefore notice the following types of images: <br>\n",
    "- Memes that are actually chat messages (1)\n",
    "- Memes that are social media screenshots, but the platform is in dark mode (2)\n",
    "- Memes that are social media screenshots, but the platform is in light mode (3)  \n",
    "What we're interested in are images of type (2) and (3). Other images will therefore be moved to a temporary folder for further manual inspection"
   ]
  },
  {
   "cell_type": "code",
   "execution_count": null,
   "metadata": {},
   "outputs": [],
   "source": []
  },
  {
   "attachments": {},
   "cell_type": "markdown",
   "metadata": {},
   "source": [
    "## Incorrect images in `fFbPosts` & `fTwtrPosts`\n",
    "As shown previously: <br> <br>\n",
    "<img src=\"../project_media/12. misplaced fb images.png\" />\n",
    "<br><br>\n",
    "Only the image on the right is desirable (similar case applies for the twitter images). However, since the folders contain 2k and 1k images respectively, manual deletion of misplaced images is done for these folders. "
   ]
  },
  {
   "attachments": {},
   "cell_type": "markdown",
   "metadata": {},
   "source": [
    "## Incorrect images in `fTxtMssgs`\n",
    "Upon quick inspection of the approximately 16K images in `fTxtMssgs` folder, it was found that very few images are considered outliers/misplacements. However, upon inspecting the sample of images here: <br><br>\n",
    "<img src=\"../project_media/15. random fTxtMssgs images.png\" height=\"500\"/>\n",
    "<br><br>\n",
    "We can see two specific types of images that could cause problems in the future:\n",
    "1. images that were not found by the imgur api, so a template \"not found\" image of size 161x81 is returned instead.\n",
    "2. Text message screenshots which mainly consists of pictures; this could cause confusion of the classifier model due to high similarity with the memes discussed in `fmemes` and `ememes`\n",
    "\n",
    "The first type of images can be easily removed by checking for the image's dimensions, but for the other type of images, we'll use clustering (after removing text) to detect the images that are inside non-dense or far-away clusters and remove them to a temporary folder for further inspection."
   ]
  },
  {
   "cell_type": "code",
   "execution_count": null,
   "metadata": {},
   "outputs": [],
   "source": []
  },
  {
   "attachments": {},
   "cell_type": "markdown",
   "metadata": {},
   "source": [
    "## Incorrect images in `eGreetingAndMisc`\n",
    "Upon quick inspection of the approximately 17K images in `eGreetingAndMisc` folder, it was found that very few images are considered outliers/misplacements. However, upon inspecting the sample of images in places like here: <br><br>\n",
    "<img src=\"../project_media/16. misplaced eGreetingAndMisc images.png\" height=\"300\"/>\n",
    "<br><br>\n",
    "We found that most of the misplaced images are those of random people scraped from google's search engine. <br><br>\n",
    "Therefore, we could just remove images that do not contain text into a temporary folder for later manual inspection"
   ]
  },
  {
   "cell_type": "code",
   "execution_count": null,
   "metadata": {},
   "outputs": [],
   "source": []
  }
 ],
 "metadata": {
  "kernelspec": {
   "display_name": "Python 3",
   "language": "python",
   "name": "python3"
  },
  "language_info": {
   "name": "python",
   "version": "3.10.8 | packaged by conda-forge | (main, Nov 24 2022, 14:07:00) [MSC v.1916 64 bit (AMD64)]"
  },
  "orig_nbformat": 4,
  "vscode": {
   "interpreter": {
    "hash": "23be188ee6fe2f0c31fd0001daddf21d657fa964fc385f0b530b3529f72211b4"
   }
  }
 },
 "nbformat": 4,
 "nbformat_minor": 2
}
