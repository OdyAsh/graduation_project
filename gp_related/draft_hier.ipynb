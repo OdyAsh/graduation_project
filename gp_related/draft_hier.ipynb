{
 "cells": [
  {
   "cell_type": "code",
   "execution_count": null,
   "metadata": {},
   "outputs": [],
   "source": [
    "# draft code used to be in class MyLogger(Logger)'s __init()__ method\n",
    "# used to set up initial history keys\n",
    "num_output_layers = 6\n",
    "\n",
    "self.num_output_layers = num_output_layers\n",
    "        history_per_output_layer = {\n",
    "            # per epoch\n",
    "            'loss':[],\n",
    "            'acc':[],\n",
    "            'f1_score':[],\n",
    "            # these 2 will be replaced with step_y_pred and step_y_true respectively\n",
    "            'y_pred':[],\n",
    "            'y_true':[],\n",
    "        } \n",
    "\n",
    "def pre_suf_fix_dict(dict, fix_val='output_layer', prefix=True):\n",
    "    return {f\"{fix_val}_{key}\" if prefix else f\"{key}_{fix_val}\" : value for key, value in dict.items()}\n",
    "\n",
    "# to create val/test prefixed keys\n",
    "history_per_output_layer.update(\n",
    "    **pre_suf_fix_dict(history_per_output_layer, fix_val='val', prefix=True),\n",
    "    **pre_suf_fix_dict(history_per_output_layer, fix_val='test', prefix=True),\n",
    ")\n",
    "# to create step_ prefixed keys\n",
    "history_per_output_layer.update(\n",
    "    **pre_suf_fix_dict(history_per_output_layer, fix_val='step', prefix=True),\n",
    ")\n",
    "# removing y_pred, y_true and keeping step_y_pred and step_y_true\n",
    "history_per_output_layer.pop('y_pred')\n",
    "history_per_output_layer.pop('y_true')\n",
    "\n",
    "# fix_val == suffix without \"_\"; to provide flexibility in using fix_val as prefix as well (if we wanted to!)\n",
    "self.out_layers_fix_val = 'output_layer' \n",
    "\n",
    "# pre_suf_fix_dict function is used to create unique key names to merge the `num_output_layers` histories into one history dictionary\n",
    "history_ol_lists = [pre_suf_fix_dict(history_per_output_layer, \n",
    "                                    fix_val=f'{self.out_layers_fix_val}_{i}', \n",
    "                                    prefix=False) \n",
    "                    for i in range(self.num_output_layers)] # ol == output layers\n",
    "\n",
    "# 'loss' here is for the final loss calculated by the loss aggregator function which uses all `num_output_layers` losses\n",
    "self.history = {'loss':[], 'val_loss':[], 'test_loss':[]}\n",
    "self.history.update(**pre_suf_fix_dict(self.history, 'step', prefix=True))\n",
    "# merging the `num_output_layers` histories into one history dictionary\n",
    "for hist_dict in history_ol_lists:\n",
    "    self.history.update(**hist_dict)\n",
    "\n",
    "self.hist_keys = list(self.history.keys())"
   ]
  }
 ],
 "metadata": {
  "language_info": {
   "name": "python"
  },
  "orig_nbformat": 4
 },
 "nbformat": 4,
 "nbformat_minor": 2
}
