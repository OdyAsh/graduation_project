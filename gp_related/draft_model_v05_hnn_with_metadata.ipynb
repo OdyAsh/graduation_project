{
 "cells": [
  {
   "attachments": {},
   "cell_type": "markdown",
   "metadata": {},
   "source": [
    "this notebook was an incomplete attempt to try HCNN with metadata as well (used previously in m02 variants)\n",
    "\n",
    "TODO (out of scope): try this"
   ]
  },
  {
   "cell_type": "code",
   "execution_count": 49,
   "metadata": {},
   "outputs": [],
   "source": [
    "# to do: remove batch_size related info\n",
    "\n",
    "class CustomDataGeneratorForV03(torch.utils.data.Dataset):\n",
    "    \"\"\"\n",
    "    Implementation notes: \n",
    "    you must have a column consisting of image names (with extension) as index of the dataframe (example: ['img0001.jpg', 'img0002.png', ...])\n",
    "    each image name has to be unique across the entire dataset, not just its class\n",
    "\n",
    "    This class is for PyTorch, unlike CustomDataGeneratorForV02, which was for TF. \n",
    "    \"\"\"\n",
    "    def __init__(self, img_labels_df, img_props_df, feature_cols, class_indices, target_size, batch_size, transforms_function=None):\n",
    "        # attributes that were in flow_from_dataframe function used previously in CustomDataGeneratorForV02. Added here for compatibility with other functions like trainModel(), etc\n",
    "        self.img_labels_df = img_labels_df\n",
    "        self.filenames = list(img_labels_df['filepath'])\n",
    "        self.labels = list(img_labels_df['label']) # this is actually not found in flow_from_dataframe's __dict__, but is a synonym of \"classes\" attribute found in the __dict__\n",
    "        self.samples = len(img_labels_df) # number of rows of the df\n",
    "        self.class_indices = class_indices\n",
    "        self.target_size = target_size\n",
    "        self.batch_size = batch_size\n",
    "\n",
    "        self.imgp_df = img_props_df # imgp_df means \"image props dataframe\"\n",
    "        self.feature_cols = feature_cols\n",
    "        self.transforms_function = transforms_function\n",
    "\n",
    "\n",
    "    def __len__(self):\n",
    "        return self.samples // self.batch_size\n",
    "    \n",
    "    def __getitem__(self, index):\n",
    "        # source: https://stackoverflow.com/questions/65231299/load-csv-and-image-dataset-in-pytorch\n",
    "\n",
    "        filepath = self.filenames[index]\n",
    "        img = Image.open(filepath)\n",
    "        if self.transforms_function is not None:\n",
    "            img = self.transforms_function(img)\n",
    "        \n",
    "        img_props = list(self.imgp_df.loc[os.path.basename(filepath), self.feature_cols])\n",
    "        img_props = torch.tensor(img_props)\n",
    "\n",
    "        x = [img, img_props]\n",
    "\n",
    "        label = self.labels[index]\n",
    "        y = self.class_indices[label] # mapping class name to its integer counterpart\n",
    "        y = torch.tensor(y, dtype=torch.int8)\n",
    "\n",
    "        return x, y\n",
    "\n",
    "    # to do: delete these commented code if __getitem__() works\n",
    "    # def __getitem__(self, index):\n",
    "    #     # \"index\" will be a list of indices in case PyTorch's batch_sampler class is passed in PyTorch's Dataloader (code shown in a later cell)\n",
    "    #     # source: https://discuss.pytorch.org/t/force-dataloader-to-fetch-batched-index-from-custom-batch-sampler/86656/2#:~:text=If%20you%20run%20it%2C%20you%E2%80%99ll%20see%20that%20the%20index%20inside%20the%20Dataset.__getitem__%20will%20contain%2010%20indices%2C%20which%20can%20be%20used%20to%20slice%20the%20data%20directly.\n",
    "    #     img_labels_df_batch = self.img_labels_df.iloc[index]\n",
    "    #     filepaths_batch = list(img_labels_df_batch['filepath'])\n",
    "    #     labels_batch = list(img_labels_df_batch['label'])\n",
    "    #     y_batch = [self.class_indices[label] for label in labels_batch] # mapping class names to their integer counterparts\n",
    "\n",
    "    #     img_batch = [Image(img_path) for img_path in filepaths_batch]\n",
    "\n",
    "\n",
    "    #     # to do: delete this part if other __getitem()__ doesn't work (and make its logic pytorch related):\n",
    "    #     # Getting the corresponding df rows for each image in the batch\n",
    "    #     filepaths_batch = self.filenames[index * self.batch_size : (index + 1) * self.batch_size] # note that self.filenames/batch_index/batch_size are all attributes initialized upon calling \"super().__init__(*args, **kwargs)\"\n",
    "    #     image_filenames_batch = [os.path.basename(filepath) for filepath in filepaths_batch]\n",
    "    #     img_props_batch = self.imgp_df.loc[image_filenames_batch, self.feature_cols]\n",
    "    #     x_batch = [img_batch, img_props_batch]\n",
    "    #     return x_batch, y_batch\n",
    "    \n"
   ]
  },
  {
   "cell_type": "code",
   "execution_count": 50,
   "metadata": {},
   "outputs": [],
   "source": [
    "import torchvision\n",
    "import torchvision.transforms as T\n",
    "\n",
    "feature_cols_for_v02 = [\n",
    "    'dominant_color_1',\n",
    "    'color_to_image_ratio_1',\n",
    "    'dominant_color_2',\n",
    "    'color_to_image_ratio_2',\n",
    "    'dominant_color_3',\n",
    "    'color_to_image_ratio_3',\n",
    "    'dominant_color_4',\n",
    "    'color_to_image_ratio_4',\n",
    "    'dominant_color_5',\n",
    "    'color_to_image_ratio_5'\n",
    " ]\n",
    "target_size = (306, 306)\n",
    "transforms_function = T.Compose(\n",
    "    [\n",
    "        T.Resize(target_size, interpolation=torchvision.transforms.InterpolationMode.NEAREST),\n",
    "        T.ToTensor()\n",
    "    ]\n",
    ")\n",
    "ddgen = CustomDataGeneratorForV03(train_data, df, feature_cols_for_v02, classNameToNum, target_size, 32, transforms_function)"
   ]
  }
 ],
 "metadata": {
  "kernelspec": {
   "display_name": "Python 3",
   "language": "python",
   "name": "python3"
  },
  "language_info": {
   "codemirror_mode": {
    "name": "ipython",
    "version": 3
   },
   "file_extension": ".py",
   "mimetype": "text/x-python",
   "name": "python",
   "nbconvert_exporter": "python",
   "pygments_lexer": "ipython3",
   "version": "3.9.15"
  },
  "orig_nbformat": 4,
  "vscode": {
   "interpreter": {
    "hash": "9affdd0bd35d1ec754fa920ac7de9c5d5a0952937fb3a90a1ef5ef0b346ddc4d"
   }
  }
 },
 "nbformat": 4,
 "nbformat_minor": 2
}
