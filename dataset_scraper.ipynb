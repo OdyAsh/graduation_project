{
 "cells": [
  {
   "cell_type": "markdown",
   "metadata": {},
   "source": [
    "# Imports"
   ]
  },
  {
   "cell_type": "code",
   "execution_count": 245,
   "metadata": {},
   "outputs": [],
   "source": [
    "from pprint import pprint\n",
    "import regex as re\n",
    "import html\n",
    "from bs4 import BeautifulSoup\n",
    "import requests\n",
    "from requests.exceptions import Timeout\n",
    "import pandas as pd\n",
    "from helium import *\n",
    "from selenium.webdriver import DesiredCapabilities\n",
    "\n",
    "import download_imgs # used in getAsyncImgFunctions()\n",
    "\n",
    "import multiprocessing\n",
    "from multiprocessing import Process\n",
    "import pickle\n",
    "import os\n",
    "import json\n",
    "import time\n",
    "from datetime import datetime"
   ]
  },
  {
   "cell_type": "markdown",
   "metadata": {},
   "source": [
    "# Global Variables & Functions"
   ]
  },
  {
   "cell_type": "code",
   "execution_count": 202,
   "metadata": {},
   "outputs": [
    {
     "data": {
      "text/plain": [
       "['0. normal',\n",
       " '1. fmemes',\n",
       " '2. ememes',\n",
       " '3. eSocialMedia',\n",
       " '4. fFbPosts',\n",
       " '5. fTwtrPosts',\n",
       " '6. fTxtMssgs',\n",
       " '7. eGreetingAndMisc']"
      ]
     },
     "execution_count": 202,
     "metadata": {},
     "output_type": "execute_result"
    }
   ],
   "source": [
    "dataDir = 'dataset/'\n",
    "imgTypes = list(filter(lambda v: re.match('\\d{1,3}\\. ', v), os.listdir(dataDir)))\n",
    "imgTypes"
   ]
  },
  {
   "cell_type": "code",
   "execution_count": 203,
   "metadata": {},
   "outputs": [],
   "source": [
    "def pklSave(contentToBeSaved, fullPath):\n",
    "    with open(fullPath, 'wb') as f:\n",
    "        pickle.dump(contentToBeSaved, f)\n",
    "\n",
    "def pklLoad(fullPath):\n",
    "    with open(fullPath, 'rb') as f:\n",
    "        content = pickle.load(f)\n",
    "    return content\n",
    "\n",
    "def forceLoadPickle(path, dtype = 'dict'):\n",
    "    try:\n",
    "        content = pklLoad(path)\n",
    "        return content\n",
    "    except Exception as e:\n",
    "        if dtype == 'list':\n",
    "            pklSave([], path)\n",
    "            return []\n",
    "        else:\n",
    "            pklSave({}, path)\n",
    "            return {}"
   ]
  },
  {
   "cell_type": "markdown",
   "metadata": {},
   "source": [
    "## Setting up images and Labels' dictionaries"
   ]
  },
  {
   "cell_type": "code",
   "execution_count": 204,
   "metadata": {},
   "outputs": [
    {
     "data": {
      "text/plain": [
       "{'0. normal': 0,\n",
       " '1. fmemes': 1,\n",
       " '2. ememes': 2,\n",
       " '3. eSocialMedia': 3,\n",
       " '4. fFbPosts': 4,\n",
       " '5. fTwtrPosts': 5,\n",
       " '6. fTxtMssgs': 6,\n",
       " '7. eGreetingAndMisc': 7}"
      ]
     },
     "execution_count": 204,
     "metadata": {},
     "output_type": "execute_result"
    }
   ],
   "source": [
    "imgTypeToNum = {}\n",
    "for  i, type in enumerate(imgTypes):\n",
    "    imgTypeToNum[type] = i\n",
    "imgTypeToNum"
   ]
  },
  {
   "cell_type": "code",
   "execution_count": 205,
   "metadata": {},
   "outputs": [],
   "source": [
    "pklSave(imgTypeToNum, dataDir+\"imgTypeToNum.pickle\") # to be later used in another .ipynb file"
   ]
  },
  {
   "cell_type": "markdown",
   "metadata": {},
   "source": [
    "# Scraping Foreign Memes"
   ]
  },
  {
   "cell_type": "markdown",
   "metadata": {},
   "source": [
    "## From [Kaggle's Meme Generator Dataset](https://www.kaggle.com/datasets/electron0zero/memegenerator-dataset)"
   ]
  },
  {
   "cell_type": "markdown",
   "metadata": {},
   "source": [
    "### Getting memes' URLs"
   ]
  },
  {
   "cell_type": "code",
   "execution_count": 206,
   "metadata": {},
   "outputs": [
    {
     "data": {
      "text/html": [
       "<div>\n",
       "<style scoped>\n",
       "    .dataframe tbody tr th:only-of-type {\n",
       "        vertical-align: middle;\n",
       "    }\n",
       "\n",
       "    .dataframe tbody tr th {\n",
       "        vertical-align: top;\n",
       "    }\n",
       "\n",
       "    .dataframe thead th {\n",
       "        text-align: right;\n",
       "    }\n",
       "</style>\n",
       "<table border=\"1\" class=\"dataframe\">\n",
       "  <thead>\n",
       "    <tr style=\"text-align: right;\">\n",
       "      <th></th>\n",
       "      <th>Meme ID</th>\n",
       "      <th>Base Meme Name</th>\n",
       "    </tr>\n",
       "  </thead>\n",
       "  <tbody>\n",
       "    <tr>\n",
       "      <th>0</th>\n",
       "      <td>10509464</td>\n",
       "      <td>Spiderman Approves</td>\n",
       "    </tr>\n",
       "    <tr>\n",
       "      <th>1</th>\n",
       "      <td>12285257</td>\n",
       "      <td>Alright Then Business Kid</td>\n",
       "    </tr>\n",
       "    <tr>\n",
       "      <th>2</th>\n",
       "      <td>20612245</td>\n",
       "      <td>Archer</td>\n",
       "    </tr>\n",
       "    <tr>\n",
       "      <th>3</th>\n",
       "      <td>20614628</td>\n",
       "      <td>Futurama Fry</td>\n",
       "    </tr>\n",
       "    <tr>\n",
       "      <th>4</th>\n",
       "      <td>24194267</td>\n",
       "      <td>One Does Not Simply</td>\n",
       "    </tr>\n",
       "  </tbody>\n",
       "</table>\n",
       "</div>"
      ],
      "text/plain": [
       "    Meme ID             Base Meme Name\n",
       "0  10509464         Spiderman Approves\n",
       "1  12285257  Alright Then Business Kid\n",
       "2  20612245                     Archer\n",
       "3  20614628               Futurama Fry\n",
       "4  24194267        One Does Not Simply"
      ]
     },
     "execution_count": 206,
     "metadata": {},
     "output_type": "execute_result"
    }
   ],
   "source": [
    "fmemesCsvLinks = pd.read_csv(\"dataset/memegenerator.csv\", usecols=[\"Meme ID\", \"Base Meme Name\"]).squeeze() # convert to Series\n",
    "fmemesCsvLinks.head()"
   ]
  },
  {
   "cell_type": "markdown",
   "metadata": {},
   "source": [
    "Upon inspection, we want to get the original template of memes, not its varientswe'll find that to fetch a page of only the meme image, the URL has to be in this format <br>\n",
    "`https://memegenerator.net/img/instances/XX.jpg` <br>\n",
    "Where `XX` is the unique id of the image on [Meme Generator](https://memegenerator.net/) <br>\n",
    "Thus, we will use the `Meme ID` column"
   ]
  },
  {
   "cell_type": "code",
   "execution_count": 207,
   "metadata": {},
   "outputs": [
    {
     "data": {
      "text/plain": [
       "0    10509464\n",
       "1    12285257\n",
       "2    20612245\n",
       "3    20614628\n",
       "4    24194267\n",
       "Name: Meme ID, dtype: object"
      ]
     },
     "execution_count": 207,
     "metadata": {},
     "output_type": "execute_result"
    }
   ],
   "source": [
    "fmemesIds = fmemesCsvLinks['Meme ID']\n",
    "fmemesIds.head()"
   ]
  },
  {
   "cell_type": "code",
   "execution_count": 208,
   "metadata": {},
   "outputs": [
    {
     "data": {
      "text/plain": [
       "0    https://memegenerator.net/img/instances/10509464.jpg\n",
       "1    https://memegenerator.net/img/instances/12285257.jpg\n",
       "2    https://memegenerator.net/img/instances/20612245.jpg\n",
       "3    https://memegenerator.net/img/instances/20614628.jpg\n",
       "4    https://memegenerator.net/img/instances/24194267.jpg\n",
       "Name: Meme ID, dtype: object"
      ]
     },
     "execution_count": 208,
     "metadata": {},
     "output_type": "execute_result"
    }
   ],
   "source": [
    "pd.set_option('max_colwidth', 70)\n",
    "fmemesLinks = 'https://memegenerator.net/img/instances/' + fmemesIds + '.jpg'\n",
    "fmemesLinks.head()"
   ]
  },
  {
   "cell_type": "code",
   "execution_count": 209,
   "metadata": {},
   "outputs": [],
   "source": [
    "pd.set_option('max_colwidth', 40)"
   ]
  },
  {
   "cell_type": "markdown",
   "metadata": {},
   "source": [
    "### Downloading the foreign images"
   ]
  },
  {
   "cell_type": "code",
   "execution_count": 210,
   "metadata": {},
   "outputs": [],
   "source": [
    "\n",
    "def getAsyncImgFunctions(imgsLinks, imgType, interval, offset=0):\n",
    "    fns = []\n",
    "    i = 0\n",
    "    check = True\n",
    "    while i < len(imgsLinks):\n",
    "        fns.append((download_imgs.downloadImgs, (imgType, imgsLinks, i, i+interval, offset)))\n",
    "        i += interval\n",
    "    return fns"
   ]
  },
  {
   "cell_type": "code",
   "execution_count": 211,
   "metadata": {},
   "outputs": [],
   "source": [
    "fns = getAsyncImgFunctions(fmemesLinks, imgTypes[1], 2000)"
   ]
  },
  {
   "cell_type": "code",
   "execution_count": 212,
   "metadata": {},
   "outputs": [
    {
     "name": "stdout",
     "output_type": "stream",
     "text": [
      "29\n"
     ]
    }
   ],
   "source": [
    "# Using runInParallel() below, we will run xx functions parallely to fetch data\n",
    "print(len(fns))"
   ]
  },
  {
   "cell_type": "code",
   "execution_count": 213,
   "metadata": {},
   "outputs": [],
   "source": [
    "def runInParallel(fns):\n",
    "  proc = []\n",
    "  for fn in fns:\n",
    "    p = Process(target=fn[0], args=(fn[1]))\n",
    "    p.start()\n",
    "    proc.append(p)\n",
    "  for p in proc:\n",
    "    p.join()"
   ]
  },
  {
   "cell_type": "code",
   "execution_count": 214,
   "metadata": {},
   "outputs": [],
   "source": [
    "#if __name__ == '__main__':\n",
    "    #runInParallel(fns)"
   ]
  },
  {
   "cell_type": "markdown",
   "metadata": {},
   "source": [
    "# Scraping Egyptian Memes"
   ]
  },
  {
   "cell_type": "markdown",
   "metadata": {},
   "source": [
    "## From Imgur using this [Facebook post]()"
   ]
  },
  {
   "cell_type": "code",
   "execution_count": 215,
   "metadata": {},
   "outputs": [
    {
     "name": "stdout",
     "output_type": "stream",
     "text": [
      "['HxfPF', 'ilzyz', 'lhDIg', 'mMJkA', 'nqdmP', 'XsucN', 'fUQNf', 'NPUrK', 'UeRnH', 'wMQTL', 'xxLOL', 'GdBOz', 'AIgjT', 'OKOME', 'VFUyL', 'mXJkz', 'dxfdi', 'wAhJp', 'hYvug', 'bbTvu', 'PMlpR', 'qjcBf', 'vIzBa', 'ysymZ', 'rBvFC', 'hwjFu', 'pxapm', 'QdWKQ']\n"
     ]
    }
   ],
   "source": [
    "fbPostContent = \"Templates HQ - المنتدى ( ألبومات تمبلتس _ مستلزمات الكوميك _ شروحات _ افضل المواقع _ مستلزمات التصميم _ ايموشنز _ وشوش ) : plus.google.com/u/0/communities/108675057016512986137 ____ ألبومات تمبلتس :(تمبلتس | مقصوصه ، افلام ، مسلسلات ، مشاهد ، برامج ) ___________ .......... محمد هنيدى .......... رمضان مبروك ابو العالمين حمودة | imgur.com/a/HxfPF اسماعيلية رايح جى | imgur.com/a/i5Msi فول الصين العظيم | imgur.com/a/C8OLI جائنا البيان التالى | imgur.com/a/r4X66 صاحب صاحبه | imgur.com/a/ilzyz يا انا يا خالتى | imgur.com/a/sTx1q امير البحار | imgur.com/a/mRYs0 وش اجرام | imgur.com/a/lhDIg .......... محمد سعد .......... اللي بالي بالك | imgur.com/a/mMJkA اللمبى‏ | imgur.com/a/kNwD8 بوحه | imgur.com/a/nqdmP .......... عادل امام .......... عريس من جهة امنيه | imgur.com/a/h4pA7 السفارة فى العمارة | imgur.com/a/Y519O سلام يا صاحبى | imgur.com/a/XsucN زهايمر | imgur.com/a/iLUE0 .......... احمد مكى .......... لا تراجع ولا استسلام | imgur.com/a/Ri6QP الكبير اوى | imgur.com/a/fUQNf طير انت | imgur.com/a/NPUrK .......... شيكو و هشام ماجد و أحمد فهمي .......... سمير وشهير وبهير | imgur.com/a/UeRnH حملة فريزر | imgur.com/a/bKB5D بنات العم | imgur.com/a/wMQTL .......... كريم عبد العزيز .......... حرامية في تايلاند‏ | imgur.com/a/MxxS6 فى محطة مصر | imgur.com/a/xxLOL الباشا تلميذ | imgur.com/a/VS6Ui ابو على | imgur.com/a/GdBOz .......... احمد رزق و احمد عيد .......... اوعى وشك | imgur.com/a/tw0Zk فيلم ثقافى‏ | imgur.com/a/AIgjT .......... احمد ادم.......... الرجل الابيض المتوسط | imgur.com/a/OKOME معلش إحنا بنتبهدل | imgur.com/a/VFUyL .......... احمد حلمى .......... عسل اسود | imgur.com/a/mXJkz على جثتى | imgur.com/a/1xzZT كده رضا | imgur.com/a/dxfdi .......... حماده هلال .......... الهرم الرابع | imgur.com/a/wAhJp عيال حبيبة |imgur.com/a/QpP7R غبي منه فيه | imgur.com/a/hYvug مقلب حرامية | imgur.com/a/bbTvu هى فوضى | imgur.com/a/PMlpR تيمور وشفيقه | imgur.com/a/qjcBf طباخ الريس | imgur.com/a/vIzBa كابتن هيما | imgur.com/a/X3abp حلم العمر | imgur.com/a/h1w4F الناظر | imgur.com/a/UQWH7 ايظن | imgur.com/a/G4q1vA2 Euc | imgur.com/a/wM1rrTE ..... تمبلتس باسم يوسف | imgur.com/a/QoM3E تمبلتس افلام اجنبى | imgur.com/a/m2anE ـــــــــــــــــــــــــــــــــــــــ البوم الكيف (مشهد العزاء) | imgur.com/a/ysymZ البوم عايز حقى (مشهد هواء هواء) | imgur.com/a/rBvFC البوم مرتضى (انا معايا دورى وصوير و 4 كاس) | imgur.com/a/Mf9OK البوم لخمة راس (هو انت ياد مش بتتكيف غير لم تضرب)| imgur.com/a/5v0GK البوم ابو العربى ( مشهد الكباريه ) | imgur.com/a/Ga7kGAY البوم الناظر (اوعى يغرك جسمك) | imgur.com/a/hwjFu ألبوم لن اعيش فى جلباب ابى | imgur.com/a/K2bosbc ـــــــــــــــــــــــــــــــــــــــ تمبلتس اعلانات ........ اتصالات محمد رمضان 2017 | imgur.com/a/Pxuv9 فودافون 2017 | imgur.com/a/BaCF8 حديد الجارحى | imgur.com/a/4uLwR كارير | imgur.com/a/pxapm بوادى | imgur.com/a/QdWKQ ـــــــــــــــــــــــــــــــــــــــ تمبلتس مقصوصة | imgur.com/a/y1bDn ــــــــــــــــــــــــــــــــــــــــــــــــــــــــــــــــــــــــــــــــــــــــــــــــــــــــــ ⛔ كل الألبومات بنعدلها كل يوم وبنضيف عليها كل التمبلتس الجديده | Facebook\"\n",
    "ememesHashes = re.findall(\"imgur.com/a/([A-Za-z]{5})\", fbPostContent)\n",
    "print(ememesHashes)"
   ]
  },
  {
   "cell_type": "markdown",
   "metadata": {},
   "source": [
    "### Using [Imgur's API](https://api.imgur.com/)"
   ]
  },
  {
   "cell_type": "code",
   "execution_count": 216,
   "metadata": {},
   "outputs": [],
   "source": [
    "client_id = 'your-data-here'\n",
    "client_secret = 'your-data-here'"
   ]
  },
  {
   "cell_type": "code",
   "execution_count": 217,
   "metadata": {},
   "outputs": [],
   "source": [
    "headers = {\n",
    "    \"Content-Type\": \"text\",\n",
    "    'Authorization' : \"Client-ID \" + client_id\n",
    "}"
   ]
  },
  {
   "cell_type": "code",
   "execution_count": 218,
   "metadata": {},
   "outputs": [
    {
     "name": "stdout",
     "output_type": "stream",
     "text": [
      "{'data': {'error': 'Invalid client_id',\n",
      "          'method': 'GET',\n",
      "          'request': '/3/album/i5Msi/images'},\n",
      " 'status': 403,\n",
      " 'success': False}\n"
     ]
    }
   ],
   "source": [
    "jsn = json.loads(requests.get('https://api.imgur.com/3/album/i5Msi/images', headers=headers).text)\n",
    "pprint(jsn)\n"
   ]
  },
  {
   "cell_type": "markdown",
   "metadata": {},
   "source": [
    "Note that initially (before I removed cliend_id string) the JSON response was like this: <br><br>\n",
    "<img src='project_media/0. imgur_api_response.png' width=350>"
   ]
  },
  {
   "cell_type": "code",
   "execution_count": 219,
   "metadata": {},
   "outputs": [],
   "source": [
    "ememesLinks = []\n",
    "def getImgurLinks():\n",
    "    for hash in ememesHashes:\n",
    "        imgsDetailsJson = json.loads(requests.get(f'https://api.imgur.com/3/album/{hash}/images', headers=headers).text)\n",
    "        for img in imgsDetailsJson['data']:\n",
    "            ememesLinks.append(img['link'])"
   ]
  },
  {
   "cell_type": "code",
   "execution_count": 220,
   "metadata": {},
   "outputs": [],
   "source": [
    "#getImgurLinks()"
   ]
  },
  {
   "cell_type": "code",
   "execution_count": 221,
   "metadata": {},
   "outputs": [],
   "source": [
    "#pklSave(ememesLinks, dataDir+\"ememesImgurLinks.pickle\") # store the links, in order not to keep accessing imgur's API each time we run the cells"
   ]
  },
  {
   "cell_type": "code",
   "execution_count": 222,
   "metadata": {},
   "outputs": [],
   "source": [
    "#ememesLinks = pklLoad(dataDir+\"ememesImgurLinks.pickle\")\n",
    "#fns = getAsyncImgFunctions(ememesLinks, imgTypes[2], len(ememesLinks)//50) #last argument means this: if #links to download are 10,000 then there will be 50 functions, each will take from link i to link i + 10,000/50 (which is 200)  \n",
    "#if __name__ == '__main__':\n",
    "    #runInParallel(fns)"
   ]
  },
  {
   "cell_type": "markdown",
   "metadata": {},
   "source": [
    "## From Facebook's public meme pages"
   ]
  },
  {
   "cell_type": "code",
   "execution_count": 223,
   "metadata": {},
   "outputs": [],
   "source": [
    "fbLinks = [ # These are just some Egyptian pages that were gathered\n",
    "    \"https://www.facebook.com/%D9%85%D9%8A%D9%85%D8%B2-%D9%84%D8%A7-%D9%81%D8%A7%D8%A6%D8%AF%D8%A9-%D9%85%D9%86%D9%87%D8%A7-%D9%85%D8%AB%D9%84-%D8%AD%D9%8A%D8%A7%D8%AA%D9%83-290489111460684/photos\",\n",
    "    \"https://www.facebook.com/MemesYard/photos/?ref=page_internal\",\n",
    "    \"https://www.facebook.com/memes.Stolen.1.0/photos/?ref=page_internal\",\n",
    "\n",
    "    \"https://www.facebook.com/%D8%A8%D9%86%D8%B3%D8%B1%D9%82-%D9%85%D9%8A%D9%85%D8%B2-%D9%88%D9%83%D9%88%D9%85%D9%8A%D9%83-%D8%B9%D8%B4%D8%A7%D9%86-%D9%85%D8%B4-%D8%A8%D9%86%D8%B9%D8%B1%D9%81-%D9%86%D8%B9%D9%85%D9%84-1735677470065180/photos/?ref=page_internal\",\n",
    "    \"https://www.facebook.com/profile.php?id=100064850389099&sk=photos\",\n",
    "    \"https://www.facebook.com/%D9%85%D9%8A%D9%85%D8%B2-%D9%84%D9%88%D8%B1%D8%AF-%D9%82%D9%85%D8%AF-100182408618014/photos/?ref=page_internal\",\n",
    "    \n",
    "    \"https://www.facebook.com/%D9%85%D9%8A%D9%85%D8%B2-%D9%85%D8%B5%D8%B1%D9%8A%D9%87-101966151287716/photos/?ref=page_internal\",\n",
    "    \"https://www.facebook.com/%D9%85%D9%8A%D9%85%D8%B2-%D9%85%D8%B4-%D9%87%D9%8A%D9%81%D9%87%D9%85%D9%87%D8%A7-%D8%A7%D9%84%D9%86%D9%88%D8%B1%D9%85%D9%8A%D8%B2-%D8%B9%D8%B4%D8%A7%D9%86-%D9%86%D9%88%D8%B1%D9%85%D9%8A%D8%B2-833501407023909/photos/?ref=page_internal\",\n",
    "    \"https://www.facebook.com/arabicclassicalartmemes/photos/?ref=page_internal\",\n",
    "    \n",
    "    \"https://web.facebook.com/True.Memes.Comics/photos/?ref=page_internal\",\n",
    "    \"https://web.facebook.com/societyforsarcasm/photos/?ref=page_internal\",\n",
    "    \"https://web.facebook.com/memes.officil/photos\",\n",
    "]"
   ]
  },
  {
   "cell_type": "code",
   "execution_count": 224,
   "metadata": {},
   "outputs": [],
   "source": [
    "def scrollTillEnd(browser):\n",
    "    \"\"\" \n",
    "    This function uses Helium (or Selenium) browser to scroll \n",
    "    Through a page that dynamically loads content in order to \n",
    "    fully load the html in browser.page_source, example:\n",
    "    https://www.facebook.com/progressofyear/photos\n",
    "    \"\"\"\n",
    "    browser.execute_script(\"window.scrollTo(0, document.body.scrollHeight);\")\n",
    "    lenOfPage = browser.execute_script(\"var lenOfPage=document.body.scrollHeight; return lenOfPage;\")\n",
    "    match=False\n",
    "    while(match==False):\n",
    "        lastCount = lenOfPage\n",
    "        time.sleep(3)\n",
    "        browser.execute_script(\"window.scrollTo(0, document.body.scrollHeight); window.scrollBy(0,-200);\") # \"-200\" scrolls up a little, so that FB realizes that the user is approaching the end, thus load more content\n",
    "        lenOfPage = browser.execute_script(\"var lenOfPage=document.body.scrollHeight; return lenOfPage;\")\n",
    "        if lastCount==lenOfPage:\n",
    "            match=True"
   ]
  },
  {
   "cell_type": "code",
   "execution_count": 225,
   "metadata": {},
   "outputs": [],
   "source": [
    "def fbPageName(htmlText):\n",
    "    \"\"\"\n",
    "    Fetches name of a FB page, which upon inspection is usally in \n",
    "    the first <h1>, <h2>, <span> of <h1> or <span> of <h2> \n",
    "    \"\"\"\n",
    "    headerOfPageTitle = re.search('<h[12] .+?(?=/h[12]>)', htmlText)\n",
    "    if (headerOfPageTitle is None):\n",
    "        return \"\"\n",
    "    headerOfPageTitle = headerOfPageTitle.group() #group() to get the entired matched string out of the regex \"match\" object\n",
    "    spanText = re.search('<span>(.*)</span>', headerOfPageTitle)\n",
    "    if (spanText is not None):\n",
    "        pageName = spanText.group(1).strip() # group(1) to return what is between parentheses\n",
    "    else:\n",
    "        pageName = re.search('>(.*)<', headerOfPageTitle).group(1).strip()\n",
    "    return pageName"
   ]
  },
  {
   "cell_type": "code",
   "execution_count": 226,
   "metadata": {},
   "outputs": [],
   "source": [
    "def fbExtractImgsLinks(htmlText):\n",
    "    \"\"\"\n",
    "    Extracts links to images in the \"photos\" section of a FB page,\n",
    "    which usually starts from the label \"Photos\" or \"All photos\"\n",
    "    \"\"\"\n",
    "    try:\n",
    "        htmlStartingFromAllPhotos = re.findall(r'>(?:All )?[pP]hotos.*', htmlText)[0] # Regex to get pages starting from \"All photos\" or \"photos\", but it has to be preceded by \">\", in order not to match \"photos\" in random URLs\n",
    "    except Exception as e:\n",
    "        print(e)\n",
    "        return []\n",
    "    imgLinks = re.findall(r'https://scontent[^\"]+', htmlStartingFromAllPhotos)\n",
    "    imgLinks = [html.unescape(link) for link in imgLinks][1:] #avoiding first image, as it might be the page's logo\n",
    "    return imgLinks\n",
    "\n",
    "def fbExtractImgsLinksOld(heliumBrowser): # didn't use this, as regex is faster than selenium methods \n",
    "    imgTags = heliumBrowser.find_elements_by_tag_name('img')\n",
    "    imgLinks = []\n",
    "    for link in imgTags:\n",
    "        if link.get_attribute('src') is not None:\n",
    "            imgLinks.append(link.get_attribute('src'))\n",
    "    imgLinks = [html.unescape(link) for link in imgLinks][1:] #avoiding first image, as it might be the page's logo\n",
    "    return imgLinks"
   ]
  },
  {
   "cell_type": "code",
   "execution_count": 227,
   "metadata": {},
   "outputs": [],
   "source": [
    "def fbPageImgScraper(pagesLinks, heliumBrowser, singlePagePickleName, allPagesPickleName, pagesNamesPickle, prevObtainedPages={}):\n",
    "    \"\"\"\n",
    "    Uses fbPageName() to get page name from each FB page in the \"pagesLinks\" list,\n",
    "    and  Uses fbExtractImgsLinks() to get all images' links from these pages.\n",
    "    Note that \"prevObtainedPages\" is a dictionary of the already fetched pages, so that \n",
    "    if this function is executed again, it won't scrape previously scraped pages.\n",
    "    At the end, it saves all the links and page names in pickle files.\n",
    "    \"\"\"\n",
    "    allLinks = []\n",
    "    prevObtainedPages = {}\n",
    "    for i in range(len(pagesLinks)):\n",
    "        heliumBrowser.get(pagesLinks[i])\n",
    "        pageName = fbPageName(heliumBrowser.page_source)\n",
    "        if pageName == \"\":\n",
    "            print(\"page not found...\")\n",
    "            continue\n",
    "        if (pageName in prevObtainedPages):\n",
    "            print(\"This page has already been scraped\")\n",
    "            continue\n",
    "        time.sleep(1) # code from here till the try/except is to close the popup that sometimes appear when scrolling down a fb page (while not signed in)\n",
    "        press(PAGE_DOWN) \n",
    "        press(PAGE_DOWN)\n",
    "        time.sleep(1)\n",
    "        try:\n",
    "            click('Close')\n",
    "        except Exception as e:\n",
    "            print(\"pop-up didn't  show, moving on...\")\n",
    "        print(\"Scrolling page:\", pageName)\n",
    "        scrollTillEnd(heliumBrowser)\n",
    "        imgLinks = fbExtractImgsLinks(heliumBrowser.page_source)\n",
    "        allLinks.extend(imgLinks) #extend() expands the elements of an iterable\n",
    "        pklSave(imgLinks, f\"{dataDir}{singlePagePickleName}{i}.pickle\")\n",
    "        prevObtainedPages[pageName] = (i, pagesLinks[i])\n",
    "        if i == len(pagesLinks)-1:\n",
    "            print(\"Finished scraping pages!\")\n",
    "        else:\n",
    "            print(\"Finished, scraping next link...\", end='\\n\\n')\n",
    "    pklSave(allLinks, f\"{dataDir}{allPagesPickleName}.pickle\")\n",
    "    pklSave(prevObtainedPages, f\"{dataDir}{pagesNamesPickle}.pickle\")"
   ]
  },
  {
   "cell_type": "code",
   "execution_count": 228,
   "metadata": {},
   "outputs": [],
   "source": [
    "# Side note: as you see, the function will sequentially check the fb pages, that's because my attempt of checking the pages asynchronously in \"fb_page_img_scraper.py\" have failed\n",
    "#browser = start_chrome(headless=False)\n",
    "#fbPageImgScraper(fbLinks, browser, \"ememesLinksfbPage\", \"allFbPagesEmemes\", \"fbPagesUsed\")\n",
    "#browser.quit()\n"
   ]
  },
  {
   "cell_type": "markdown",
   "metadata": {},
   "source": [
    "Note that when `fbPageImgScraper()` was initially called, it saved the links in .pickle files <br>and printed the name of the pages, such as these last 4: <br><br>\n",
    "<img src='project_media/1. fbEMemes.png' width=350>"
   ]
  },
  {
   "cell_type": "markdown",
   "metadata": {},
   "source": [
    "### Downloading the memes into \"`2. ememes`\" directory"
   ]
  },
  {
   "cell_type": "code",
   "execution_count": 229,
   "metadata": {},
   "outputs": [
    {
     "name": "stdout",
     "output_type": "stream",
     "text": [
      "16996\n"
     ]
    }
   ],
   "source": [
    "# Note 1: I've previously saved 1247 memes (from imgur) in that folder\n",
    "# I want to save files starting from the index after the last saved photo \"ememes0001246.jpg\"\n",
    "# So it will start from \"ememes0001247.jpg\" \n",
    "# Note 2: The current output of this cell is obviously not 1247, because by now I've already added the rest of the images\n",
    "prevFiles = os.listdir(f\"{dataDir}{imgTypes[2]}\")\n",
    "if len(prevFiles) > 0:\n",
    "    lastFileName = prevFiles[-1]\n",
    "    dotLoc = lastFileName.find('.')\n",
    "    offset = int(lastFileName[dotLoc-7:dotLoc])+1\n",
    "    print(offset)"
   ]
  },
  {
   "cell_type": "code",
   "execution_count": 230,
   "metadata": {},
   "outputs": [
    {
     "name": "stdout",
     "output_type": "stream",
     "text": [
      "Total Egyptian memes scraped from FB: 15749\n",
      "Total FB pages scraped: 12\n"
     ]
    }
   ],
   "source": [
    "allEmemesLinks = pklLoad(f\"{dataDir}allFbPagesEmemes.pickle\")\n",
    "prevObtainedPages = pklLoad(f\"{dataDir}fbPagesUsed.pickle\")\n",
    "print(\"Total Egyptian memes scraped from FB:\", len(allEmemesLinks))\n",
    "print(\"Total FB pages scraped:\", len(prevObtainedPages))\n",
    "# print(\"Saving images to '2. ememes'\")\n",
    "# fns = getAsyncImgFunctions(allEmemesLinks, imgTypes[2], len(allEmemesLinks)//50, offset)\n",
    "# if __name__ == '__main__':\n",
    "#     runInParallel(fns)"
   ]
  },
  {
   "cell_type": "markdown",
   "metadata": {},
   "source": [
    "# Scraping Egyptian Social Media Images\n",
    "For example, screenshots from FB's posts, twitter's tweets, whatsapp's/messenger's chats <br>\n",
    "Examples of each of these: <br><br>\n",
    "<img src='project_media/2. eSocialMedia.png' width=600>"
   ]
  },
  {
   "cell_type": "code",
   "execution_count": 231,
   "metadata": {},
   "outputs": [],
   "source": [
    "fbLinks = [ # These are just some Egyptian pages that were gathered\n",
    "    'https://www.facebook.com/inbox.ertu/photos/?ref=page_internal',\n",
    "    'https://www.facebook.com/Inbox.Status/photos',\n",
    "]"
   ]
  },
  {
   "cell_type": "code",
   "execution_count": 232,
   "metadata": {},
   "outputs": [],
   "source": [
    "#browser = start_chrome(headless=False)\n",
    "#fbPageImgScraper(fbLinks, browser, \"eSocialMediaLinksfbPage\", \"allFbPagesESocialMedia\", \"fbESocialMediaPagesUsed\")\n",
    "#browser.quit()\n",
    "# to-do: run the above lines ^^"
   ]
  },
  {
   "cell_type": "code",
   "execution_count": 233,
   "metadata": {},
   "outputs": [],
   "source": [
    "#allESocialMediaLinks = pklLoad(f\"{dataDir}allFbPagesESocialMedia.pickle\")\n",
    "#prevObtainedPages = pklLoad(f\"{dataDir}fbESocialMediaPagesUsed.pickle\")\n",
    "#fns = getAsyncImgFunctions(allEmemesLinks, imgTypes[3], len(allESocialMediaLinks)//50)\n",
    "#if __name__ == '__main__':\n",
    "#    runInParallel(fns)"
   ]
  },
  {
   "cell_type": "markdown",
   "metadata": {},
   "source": [
    "# Scraping Foreign Social Media Images\n",
    "For example, screenshots from FB's posts, twitter's tweets, whatsapp's/messenger's chats <br>\n",
    "Examples: <br><br>\n",
    "<img src='project_media/3. fFb.png' width=300>\n",
    "<img src='project_media/4. fTwtr.png' width=300>\n",
    "<img src='project_media/5. fWhats.png' width=300>"
   ]
  },
  {
   "cell_type": "markdown",
   "metadata": {},
   "source": [
    "Side note: since all of the cells below are commented <br> \n",
    "(because they've already saved the links to pickle files, so no need to re-run them) <br>\n",
    "here is the output of the `getSubredditImgsLinks()` function used on `bestoftwitter` subreddit: <br><br>\n",
    "<img src='project_media/6. getSubredditImgsLinks() on twtr.png' width=400>"
   ]
  },
  {
   "cell_type": "code",
   "execution_count": 234,
   "metadata": {},
   "outputs": [],
   "source": [
    "redditLinks = [ # some links that were gathered\n",
    "    'https://www.reddit.com/r/FacebookCringe/',\n",
    "    'https://www.reddit.com/r/bestoftwitter/',\n",
    "    'https://www.reddit.com/r/texts/',\n",
    "    'https://www.reddit.com/r/GoodFakeTexts/',\n",
    "    'https://www.reddit.com/r/Badfaketexts/'\n",
    "]"
   ]
  },
  {
   "cell_type": "code",
   "execution_count": 246,
   "metadata": {},
   "outputs": [],
   "source": [
    "def getPushshiftData(after, before, sub):\n",
    "    url = 'https://api.pushshift.io/reddit/search/submission/?size=1000&is_video=false&after='+str(after)+'&before='+str(before)+'&subreddit='+str(sub)\n",
    "    try:\n",
    "        r = requests.get(url, timeout=(10, 20))\n",
    "    except Timeout as t:\n",
    "        print('no internet connection, or api.pushift.io is down')\n",
    "        print(t)\n",
    "    data = json.loads(r.text)\n",
    "    return data['data']"
   ]
  },
  {
   "cell_type": "code",
   "execution_count": 254,
   "metadata": {},
   "outputs": [],
   "source": [
    "def getSubredditCreationDate(browser):\n",
    "    dateStr = re.search('Created .+?>([^<]*)', browser.page_source)\n",
    "    while dateStr is None:\n",
    "        time.sleep(2)\n",
    "        dateStr = re.search('Created .+?>([^<]*)', browser.page_source)\n",
    "    try:\n",
    "        return dateStr.group(1)\n",
    "    except Exception as e:\n",
    "        return \"Jan 1, 2000\" # a random old date"
   ]
  },
  {
   "cell_type": "code",
   "execution_count": 248,
   "metadata": {},
   "outputs": [],
   "source": [
    "def getUnixCode(date):\n",
    "    return int(time.mktime(date.timetuple()))\n",
    "def getDate(dateStr):\n",
    "    return datetime.strptime(dateStr, '%b %d, %Y').date()\n",
    "def imgLinkParser(link):\n",
    "    if re.match('.*(\\.jpg|\\.png|\\.jpeg)', link):\n",
    "        return link\n",
    "    else:\n",
    "        return \"\""
   ]
  },
  {
   "cell_type": "code",
   "execution_count": 249,
   "metadata": {},
   "outputs": [],
   "source": [
    "def getSubredditImgsLinks(subLink, browser, pickleName):\n",
    "    redditImgLinks = []\n",
    "    visitedSubreddits = {}\n",
    "    browser.get(subLink)\n",
    "    subName = re.search('r/([^/]*)', subLink).group(1)\n",
    "    try:\n",
    "        visitedSubreddits = pklLoad(f'{dataDir}visitedSubreddits.pickle')\n",
    "        if subName in visitedSubreddits:\n",
    "            print('This subreddit has already been scraped before!')\n",
    "            return\n",
    "    except:\n",
    "        pass\n",
    "    startDate = getUnixCode(getDate(getSubredditCreationDate(browser)))\n",
    "    endDate = getUnixCode(datetime.now())\n",
    "    data = getPushshiftData(\n",
    "        after = startDate, \n",
    "        before = endDate, \n",
    "        sub = subName\n",
    "        )\n",
    "    # Will run until all posts have been gathered \n",
    "    # from the 'after' date up until before date\n",
    "    while len(data) > 0:\n",
    "        for submission in data:\n",
    "            link = imgLinkParser(submission['url'])\n",
    "            if (len(link) > 0):\n",
    "                redditImgLinks.append(link)\n",
    "        print(\"Current #links:\", len(redditImgLinks))\n",
    "        print('Current last img link:', redditImgLinks[-1])\n",
    "        startDate = data[-1]['created_utc']\n",
    "        print('It\\'s creation date:')\n",
    "        print(datetime.utcfromtimestamp(int(startDate)).strftime('%Y-%m-%d %H:%M:%S')) # convert from unix timestamp to readable date format\n",
    "        data = getPushshiftData(startDate, endDate, subName) # Calls getPushshiftData() with the created date of the last submission\n",
    "    pklSave(redditImgLinks, f'{dataDir}{pickleName}.pickle')\n",
    "    visitedSubreddits[subName] = True\n",
    "    pklSave(visitedSubreddits, f'{dataDir}visitedSubreddits.pickle')\n",
    "    return redditImgLinks"
   ]
  },
  {
   "cell_type": "markdown",
   "metadata": {},
   "source": [
    "## Scraping screenshots of FB posts"
   ]
  },
  {
   "cell_type": "code",
   "execution_count": 240,
   "metadata": {},
   "outputs": [
    {
     "name": "stdout",
     "output_type": "stream",
     "text": [
      "Current #links: 107\n",
      "Current last img link: https://i.redd.it/ld3id265w68z.jpg\n",
      "It's creation date:\n",
      "2017-07-07 19:47:11\n",
      "Current #links: 221\n",
      "Current last img link: https://i.redd.it/lozx4okgz2lz.jpg\n",
      "It's creation date:\n",
      "2017-09-10 16:18:49\n",
      "Current #links: 413\n",
      "Current last img link: https://i.redd.it/vf09ai7dobf01.jpg\n",
      "It's creation date:\n",
      "2018-02-10 05:36:05\n",
      "Current #links: 627\n",
      "Current last img link: https://i.redd.it/w2n69pi07ub11.jpg\n",
      "It's creation date:\n",
      "2018-07-24 06:05:03\n"
     ]
    },
    {
     "ename": "KeyboardInterrupt",
     "evalue": "",
     "output_type": "error",
     "traceback": [
      "\u001b[1;31m---------------------------------------------------------------------------\u001b[0m",
      "\u001b[1;31mKeyboardInterrupt\u001b[0m                         Traceback (most recent call last)",
      "Cell \u001b[1;32mIn [240], line 4\u001b[0m\n\u001b[0;32m      2\u001b[0m capabilities[\u001b[38;5;124m\"\u001b[39m\u001b[38;5;124mpageLoadStrategy\u001b[39m\u001b[38;5;124m\"\u001b[39m] \u001b[38;5;241m=\u001b[39m \u001b[38;5;124m\"\u001b[39m\u001b[38;5;124mnone\u001b[39m\u001b[38;5;124m\"\u001b[39m\n\u001b[0;32m      3\u001b[0m browser \u001b[38;5;241m=\u001b[39m start_chrome(headless\u001b[38;5;241m=\u001b[39m\u001b[38;5;28;01mFalse\u001b[39;00m, capabilities\u001b[38;5;241m=\u001b[39mcapabilities)\n\u001b[1;32m----> 4\u001b[0m redditImgLinks \u001b[38;5;241m=\u001b[39m \u001b[43mgetSubredditImgsLinks\u001b[49m\u001b[43m(\u001b[49m\u001b[43mredditLinks\u001b[49m\u001b[43m[\u001b[49m\u001b[38;5;241;43m0\u001b[39;49m\u001b[43m]\u001b[49m\u001b[43m,\u001b[49m\u001b[43m \u001b[49m\u001b[43mbrowser\u001b[49m\u001b[43m,\u001b[49m\u001b[43m \u001b[49m\u001b[38;5;124;43m\"\u001b[39;49m\u001b[38;5;124;43mfFbPostsFromReddit\u001b[39;49m\u001b[38;5;124;43m\"\u001b[39;49m\u001b[43m)\u001b[49m\n",
      "Cell \u001b[1;32mIn [238], line 32\u001b[0m, in \u001b[0;36mgetSubredditImgsLinks\u001b[1;34m(subLink, browser, pickleName)\u001b[0m\n\u001b[0;32m     30\u001b[0m     \u001b[38;5;28mprint\u001b[39m(\u001b[38;5;124m'\u001b[39m\u001b[38;5;124mIt\u001b[39m\u001b[38;5;130;01m\\'\u001b[39;00m\u001b[38;5;124ms creation date:\u001b[39m\u001b[38;5;124m'\u001b[39m)\n\u001b[0;32m     31\u001b[0m     \u001b[38;5;28mprint\u001b[39m(datetime\u001b[38;5;241m.\u001b[39mutcfromtimestamp(\u001b[38;5;28mint\u001b[39m(startDate))\u001b[38;5;241m.\u001b[39mstrftime(\u001b[38;5;124m'\u001b[39m\u001b[38;5;124m%\u001b[39m\u001b[38;5;124mY-\u001b[39m\u001b[38;5;124m%\u001b[39m\u001b[38;5;124mm-\u001b[39m\u001b[38;5;132;01m%d\u001b[39;00m\u001b[38;5;124m \u001b[39m\u001b[38;5;124m%\u001b[39m\u001b[38;5;124mH:\u001b[39m\u001b[38;5;124m%\u001b[39m\u001b[38;5;124mM:\u001b[39m\u001b[38;5;124m%\u001b[39m\u001b[38;5;124mS\u001b[39m\u001b[38;5;124m'\u001b[39m)) \u001b[38;5;66;03m# convert from unix timestamp to readable date format\u001b[39;00m\n\u001b[1;32m---> 32\u001b[0m     data \u001b[38;5;241m=\u001b[39m \u001b[43mgetPushshiftData\u001b[49m\u001b[43m(\u001b[49m\u001b[43mstartDate\u001b[49m\u001b[43m,\u001b[49m\u001b[43m \u001b[49m\u001b[43mendDate\u001b[49m\u001b[43m,\u001b[49m\u001b[43m \u001b[49m\u001b[43msubName\u001b[49m\u001b[43m)\u001b[49m \u001b[38;5;66;03m# Calls getPushshiftData() with the created date of the last submission\u001b[39;00m\n\u001b[0;32m     33\u001b[0m pklSave(redditImgLinks, \u001b[38;5;124mf\u001b[39m\u001b[38;5;124m'\u001b[39m\u001b[38;5;132;01m{\u001b[39;00mdataDir\u001b[38;5;132;01m}\u001b[39;00m\u001b[38;5;132;01m{\u001b[39;00mpickleName\u001b[38;5;132;01m}\u001b[39;00m\u001b[38;5;124m.pickle\u001b[39m\u001b[38;5;124m'\u001b[39m)\n\u001b[0;32m     34\u001b[0m visitedSubreddits[subName] \u001b[38;5;241m=\u001b[39m \u001b[38;5;28;01mTrue\u001b[39;00m\n",
      "Cell \u001b[1;32mIn [235], line 3\u001b[0m, in \u001b[0;36mgetPushshiftData\u001b[1;34m(after, before, sub)\u001b[0m\n\u001b[0;32m      1\u001b[0m \u001b[38;5;28;01mdef\u001b[39;00m \u001b[38;5;21mgetPushshiftData\u001b[39m(after, before, sub):\n\u001b[0;32m      2\u001b[0m     url \u001b[38;5;241m=\u001b[39m \u001b[38;5;124m'\u001b[39m\u001b[38;5;124mhttps://api.pushshift.io/reddit/search/submission/?size=1000&is_video=false&after=\u001b[39m\u001b[38;5;124m'\u001b[39m\u001b[38;5;241m+\u001b[39m\u001b[38;5;28mstr\u001b[39m(after)\u001b[38;5;241m+\u001b[39m\u001b[38;5;124m'\u001b[39m\u001b[38;5;124m&before=\u001b[39m\u001b[38;5;124m'\u001b[39m\u001b[38;5;241m+\u001b[39m\u001b[38;5;28mstr\u001b[39m(before)\u001b[38;5;241m+\u001b[39m\u001b[38;5;124m'\u001b[39m\u001b[38;5;124m&subreddit=\u001b[39m\u001b[38;5;124m'\u001b[39m\u001b[38;5;241m+\u001b[39m\u001b[38;5;28mstr\u001b[39m(sub)\n\u001b[1;32m----> 3\u001b[0m     r \u001b[38;5;241m=\u001b[39m \u001b[43mrequests\u001b[49m\u001b[38;5;241;43m.\u001b[39;49m\u001b[43mget\u001b[49m\u001b[43m(\u001b[49m\u001b[43murl\u001b[49m\u001b[43m)\u001b[49m\n\u001b[0;32m      4\u001b[0m     data \u001b[38;5;241m=\u001b[39m json\u001b[38;5;241m.\u001b[39mloads(r\u001b[38;5;241m.\u001b[39mtext)\n\u001b[0;32m      5\u001b[0m     \u001b[38;5;28;01mreturn\u001b[39;00m data[\u001b[38;5;124m'\u001b[39m\u001b[38;5;124mdata\u001b[39m\u001b[38;5;124m'\u001b[39m]\n",
      "File \u001b[1;32md:\\CS\\projects\\graduation_project\\.env\\lib\\site-packages\\requests\\api.py:73\u001b[0m, in \u001b[0;36mget\u001b[1;34m(url, params, **kwargs)\u001b[0m\n\u001b[0;32m     62\u001b[0m \u001b[39mdef\u001b[39;00m \u001b[39mget\u001b[39m(url, params\u001b[39m=\u001b[39m\u001b[39mNone\u001b[39;00m, \u001b[39m*\u001b[39m\u001b[39m*\u001b[39mkwargs):\n\u001b[0;32m     63\u001b[0m     \u001b[39mr\u001b[39m\u001b[39m\"\"\"Sends a GET request.\u001b[39;00m\n\u001b[0;32m     64\u001b[0m \n\u001b[0;32m     65\u001b[0m \u001b[39m    :param url: URL for the new :class:`Request` object.\u001b[39;00m\n\u001b[1;32m   (...)\u001b[0m\n\u001b[0;32m     70\u001b[0m \u001b[39m    :rtype: requests.Response\u001b[39;00m\n\u001b[0;32m     71\u001b[0m \u001b[39m    \"\"\"\u001b[39;00m\n\u001b[1;32m---> 73\u001b[0m     \u001b[39mreturn\u001b[39;00m request(\u001b[39m\"\u001b[39m\u001b[39mget\u001b[39m\u001b[39m\"\u001b[39m, url, params\u001b[39m=\u001b[39mparams, \u001b[39m*\u001b[39m\u001b[39m*\u001b[39mkwargs)\n",
      "File \u001b[1;32md:\\CS\\projects\\graduation_project\\.env\\lib\\site-packages\\requests\\api.py:59\u001b[0m, in \u001b[0;36mrequest\u001b[1;34m(method, url, **kwargs)\u001b[0m\n\u001b[0;32m     55\u001b[0m \u001b[39m# By using the 'with' statement we are sure the session is closed, thus we\u001b[39;00m\n\u001b[0;32m     56\u001b[0m \u001b[39m# avoid leaving sockets open which can trigger a ResourceWarning in some\u001b[39;00m\n\u001b[0;32m     57\u001b[0m \u001b[39m# cases, and look like a memory leak in others.\u001b[39;00m\n\u001b[0;32m     58\u001b[0m \u001b[39mwith\u001b[39;00m sessions\u001b[39m.\u001b[39mSession() \u001b[39mas\u001b[39;00m session:\n\u001b[1;32m---> 59\u001b[0m     \u001b[39mreturn\u001b[39;00m session\u001b[39m.\u001b[39mrequest(method\u001b[39m=\u001b[39mmethod, url\u001b[39m=\u001b[39murl, \u001b[39m*\u001b[39m\u001b[39m*\u001b[39mkwargs)\n",
      "File \u001b[1;32md:\\CS\\projects\\graduation_project\\.env\\lib\\site-packages\\requests\\sessions.py:587\u001b[0m, in \u001b[0;36mSession.request\u001b[1;34m(self, method, url, params, data, headers, cookies, files, auth, timeout, allow_redirects, proxies, hooks, stream, verify, cert, json)\u001b[0m\n\u001b[0;32m    582\u001b[0m send_kwargs \u001b[39m=\u001b[39m {\n\u001b[0;32m    583\u001b[0m     \u001b[39m\"\u001b[39m\u001b[39mtimeout\u001b[39m\u001b[39m\"\u001b[39m: timeout,\n\u001b[0;32m    584\u001b[0m     \u001b[39m\"\u001b[39m\u001b[39mallow_redirects\u001b[39m\u001b[39m\"\u001b[39m: allow_redirects,\n\u001b[0;32m    585\u001b[0m }\n\u001b[0;32m    586\u001b[0m send_kwargs\u001b[39m.\u001b[39mupdate(settings)\n\u001b[1;32m--> 587\u001b[0m resp \u001b[39m=\u001b[39m \u001b[39mself\u001b[39m\u001b[39m.\u001b[39msend(prep, \u001b[39m*\u001b[39m\u001b[39m*\u001b[39msend_kwargs)\n\u001b[0;32m    589\u001b[0m \u001b[39mreturn\u001b[39;00m resp\n",
      "File \u001b[1;32md:\\CS\\projects\\graduation_project\\.env\\lib\\site-packages\\requests\\sessions.py:745\u001b[0m, in \u001b[0;36mSession.send\u001b[1;34m(self, request, **kwargs)\u001b[0m\n\u001b[0;32m    742\u001b[0m         \u001b[39mpass\u001b[39;00m\n\u001b[0;32m    744\u001b[0m \u001b[39mif\u001b[39;00m \u001b[39mnot\u001b[39;00m stream:\n\u001b[1;32m--> 745\u001b[0m     r\u001b[39m.\u001b[39;49mcontent\n\u001b[0;32m    747\u001b[0m \u001b[39mreturn\u001b[39;00m r\n",
      "File \u001b[1;32md:\\CS\\projects\\graduation_project\\.env\\lib\\site-packages\\requests\\models.py:899\u001b[0m, in \u001b[0;36mResponse.content\u001b[1;34m(self)\u001b[0m\n\u001b[0;32m    897\u001b[0m         \u001b[39mself\u001b[39m\u001b[39m.\u001b[39m_content \u001b[39m=\u001b[39m \u001b[39mNone\u001b[39;00m\n\u001b[0;32m    898\u001b[0m     \u001b[39melse\u001b[39;00m:\n\u001b[1;32m--> 899\u001b[0m         \u001b[39mself\u001b[39m\u001b[39m.\u001b[39m_content \u001b[39m=\u001b[39m \u001b[39mb\u001b[39;49m\u001b[39m\"\u001b[39;49m\u001b[39m\"\u001b[39;49m\u001b[39m.\u001b[39;49mjoin(\u001b[39mself\u001b[39;49m\u001b[39m.\u001b[39;49miter_content(CONTENT_CHUNK_SIZE)) \u001b[39mor\u001b[39;00m \u001b[39mb\u001b[39m\u001b[39m\"\u001b[39m\u001b[39m\"\u001b[39m\n\u001b[0;32m    901\u001b[0m \u001b[39mself\u001b[39m\u001b[39m.\u001b[39m_content_consumed \u001b[39m=\u001b[39m \u001b[39mTrue\u001b[39;00m\n\u001b[0;32m    902\u001b[0m \u001b[39m# don't need to release the connection; that's been handled by urllib3\u001b[39;00m\n\u001b[0;32m    903\u001b[0m \u001b[39m# since we exhausted the data.\u001b[39;00m\n",
      "File \u001b[1;32md:\\CS\\projects\\graduation_project\\.env\\lib\\site-packages\\requests\\models.py:816\u001b[0m, in \u001b[0;36mResponse.iter_content.<locals>.generate\u001b[1;34m()\u001b[0m\n\u001b[0;32m    814\u001b[0m \u001b[39mif\u001b[39;00m \u001b[39mhasattr\u001b[39m(\u001b[39mself\u001b[39m\u001b[39m.\u001b[39mraw, \u001b[39m\"\u001b[39m\u001b[39mstream\u001b[39m\u001b[39m\"\u001b[39m):\n\u001b[0;32m    815\u001b[0m     \u001b[39mtry\u001b[39;00m:\n\u001b[1;32m--> 816\u001b[0m         \u001b[39myield from\u001b[39;00m \u001b[39mself\u001b[39m\u001b[39m.\u001b[39mraw\u001b[39m.\u001b[39mstream(chunk_size, decode_content\u001b[39m=\u001b[39m\u001b[39mTrue\u001b[39;00m)\n\u001b[0;32m    817\u001b[0m     \u001b[39mexcept\u001b[39;00m ProtocolError \u001b[39mas\u001b[39;00m e:\n\u001b[0;32m    818\u001b[0m         \u001b[39mraise\u001b[39;00m ChunkedEncodingError(e)\n",
      "File \u001b[1;32md:\\CS\\projects\\graduation_project\\.env\\lib\\site-packages\\urllib3\\response.py:623\u001b[0m, in \u001b[0;36mHTTPResponse.stream\u001b[1;34m(self, amt, decode_content)\u001b[0m\n\u001b[0;32m    607\u001b[0m \u001b[39m\"\"\"\u001b[39;00m\n\u001b[0;32m    608\u001b[0m \u001b[39mA generator wrapper for the read() method. A call will block until\u001b[39;00m\n\u001b[0;32m    609\u001b[0m \u001b[39m``amt`` bytes have been read from the connection or until the\u001b[39;00m\n\u001b[1;32m   (...)\u001b[0m\n\u001b[0;32m    620\u001b[0m \u001b[39m    'content-encoding' header.\u001b[39;00m\n\u001b[0;32m    621\u001b[0m \u001b[39m\"\"\"\u001b[39;00m\n\u001b[0;32m    622\u001b[0m \u001b[39mif\u001b[39;00m \u001b[39mself\u001b[39m\u001b[39m.\u001b[39mchunked \u001b[39mand\u001b[39;00m \u001b[39mself\u001b[39m\u001b[39m.\u001b[39msupports_chunked_reads():\n\u001b[1;32m--> 623\u001b[0m     \u001b[39mfor\u001b[39;00m line \u001b[39min\u001b[39;00m \u001b[39mself\u001b[39m\u001b[39m.\u001b[39mread_chunked(amt, decode_content\u001b[39m=\u001b[39mdecode_content):\n\u001b[0;32m    624\u001b[0m         \u001b[39myield\u001b[39;00m line\n\u001b[0;32m    625\u001b[0m \u001b[39melse\u001b[39;00m:\n",
      "File \u001b[1;32md:\\CS\\projects\\graduation_project\\.env\\lib\\site-packages\\urllib3\\response.py:818\u001b[0m, in \u001b[0;36mHTTPResponse.read_chunked\u001b[1;34m(self, amt, decode_content)\u001b[0m\n\u001b[0;32m    816\u001b[0m \u001b[39mif\u001b[39;00m \u001b[39mself\u001b[39m\u001b[39m.\u001b[39mchunk_left \u001b[39m==\u001b[39m \u001b[39m0\u001b[39m:\n\u001b[0;32m    817\u001b[0m     \u001b[39mbreak\u001b[39;00m\n\u001b[1;32m--> 818\u001b[0m chunk \u001b[39m=\u001b[39m \u001b[39mself\u001b[39;49m\u001b[39m.\u001b[39;49m_handle_chunk(amt)\n\u001b[0;32m    819\u001b[0m decoded \u001b[39m=\u001b[39m \u001b[39mself\u001b[39m\u001b[39m.\u001b[39m_decode(\n\u001b[0;32m    820\u001b[0m     chunk, decode_content\u001b[39m=\u001b[39mdecode_content, flush_decoder\u001b[39m=\u001b[39m\u001b[39mFalse\u001b[39;00m\n\u001b[0;32m    821\u001b[0m )\n\u001b[0;32m    822\u001b[0m \u001b[39mif\u001b[39;00m decoded:\n",
      "File \u001b[1;32md:\\CS\\projects\\graduation_project\\.env\\lib\\site-packages\\urllib3\\response.py:762\u001b[0m, in \u001b[0;36mHTTPResponse._handle_chunk\u001b[1;34m(self, amt)\u001b[0m\n\u001b[0;32m    760\u001b[0m     \u001b[39mself\u001b[39m\u001b[39m.\u001b[39mchunk_left \u001b[39m=\u001b[39m \u001b[39mNone\u001b[39;00m\n\u001b[0;32m    761\u001b[0m \u001b[39melif\u001b[39;00m amt \u001b[39m<\u001b[39m \u001b[39mself\u001b[39m\u001b[39m.\u001b[39mchunk_left:\n\u001b[1;32m--> 762\u001b[0m     value \u001b[39m=\u001b[39m \u001b[39mself\u001b[39;49m\u001b[39m.\u001b[39;49m_fp\u001b[39m.\u001b[39;49m_safe_read(amt)\n\u001b[0;32m    763\u001b[0m     \u001b[39mself\u001b[39m\u001b[39m.\u001b[39mchunk_left \u001b[39m=\u001b[39m \u001b[39mself\u001b[39m\u001b[39m.\u001b[39mchunk_left \u001b[39m-\u001b[39m amt\n\u001b[0;32m    764\u001b[0m     returned_chunk \u001b[39m=\u001b[39m value\n",
      "File \u001b[1;32mC:\\Python310\\lib\\http\\client.py:630\u001b[0m, in \u001b[0;36mHTTPResponse._safe_read\u001b[1;34m(self, amt)\u001b[0m\n\u001b[0;32m    623\u001b[0m \u001b[39mdef\u001b[39;00m \u001b[39m_safe_read\u001b[39m(\u001b[39mself\u001b[39m, amt):\n\u001b[0;32m    624\u001b[0m     \u001b[39m\"\"\"Read the number of bytes requested.\u001b[39;00m\n\u001b[0;32m    625\u001b[0m \n\u001b[0;32m    626\u001b[0m \u001b[39m    This function should be used when <amt> bytes \"should\" be present for\u001b[39;00m\n\u001b[0;32m    627\u001b[0m \u001b[39m    reading. If the bytes are truly not available (due to EOF), then the\u001b[39;00m\n\u001b[0;32m    628\u001b[0m \u001b[39m    IncompleteRead exception can be used to detect the problem.\u001b[39;00m\n\u001b[0;32m    629\u001b[0m \u001b[39m    \"\"\"\u001b[39;00m\n\u001b[1;32m--> 630\u001b[0m     data \u001b[39m=\u001b[39m \u001b[39mself\u001b[39;49m\u001b[39m.\u001b[39;49mfp\u001b[39m.\u001b[39;49mread(amt)\n\u001b[0;32m    631\u001b[0m     \u001b[39mif\u001b[39;00m \u001b[39mlen\u001b[39m(data) \u001b[39m<\u001b[39m amt:\n\u001b[0;32m    632\u001b[0m         \u001b[39mraise\u001b[39;00m IncompleteRead(data, amt\u001b[39m-\u001b[39m\u001b[39mlen\u001b[39m(data))\n",
      "File \u001b[1;32mC:\\Python310\\lib\\socket.py:705\u001b[0m, in \u001b[0;36mSocketIO.readinto\u001b[1;34m(self, b)\u001b[0m\n\u001b[0;32m    703\u001b[0m \u001b[39mwhile\u001b[39;00m \u001b[39mTrue\u001b[39;00m:\n\u001b[0;32m    704\u001b[0m     \u001b[39mtry\u001b[39;00m:\n\u001b[1;32m--> 705\u001b[0m         \u001b[39mreturn\u001b[39;00m \u001b[39mself\u001b[39;49m\u001b[39m.\u001b[39;49m_sock\u001b[39m.\u001b[39;49mrecv_into(b)\n\u001b[0;32m    706\u001b[0m     \u001b[39mexcept\u001b[39;00m timeout:\n\u001b[0;32m    707\u001b[0m         \u001b[39mself\u001b[39m\u001b[39m.\u001b[39m_timeout_occurred \u001b[39m=\u001b[39m \u001b[39mTrue\u001b[39;00m\n",
      "File \u001b[1;32mC:\\Python310\\lib\\ssl.py:1274\u001b[0m, in \u001b[0;36mSSLSocket.recv_into\u001b[1;34m(self, buffer, nbytes, flags)\u001b[0m\n\u001b[0;32m   1270\u001b[0m     \u001b[39mif\u001b[39;00m flags \u001b[39m!=\u001b[39m \u001b[39m0\u001b[39m:\n\u001b[0;32m   1271\u001b[0m         \u001b[39mraise\u001b[39;00m \u001b[39mValueError\u001b[39;00m(\n\u001b[0;32m   1272\u001b[0m           \u001b[39m\"\u001b[39m\u001b[39mnon-zero flags not allowed in calls to recv_into() on \u001b[39m\u001b[39m%s\u001b[39;00m\u001b[39m\"\u001b[39m \u001b[39m%\u001b[39m\n\u001b[0;32m   1273\u001b[0m           \u001b[39mself\u001b[39m\u001b[39m.\u001b[39m\u001b[39m__class__\u001b[39m)\n\u001b[1;32m-> 1274\u001b[0m     \u001b[39mreturn\u001b[39;00m \u001b[39mself\u001b[39;49m\u001b[39m.\u001b[39;49mread(nbytes, buffer)\n\u001b[0;32m   1275\u001b[0m \u001b[39melse\u001b[39;00m:\n\u001b[0;32m   1276\u001b[0m     \u001b[39mreturn\u001b[39;00m \u001b[39msuper\u001b[39m()\u001b[39m.\u001b[39mrecv_into(buffer, nbytes, flags)\n",
      "File \u001b[1;32mC:\\Python310\\lib\\ssl.py:1130\u001b[0m, in \u001b[0;36mSSLSocket.read\u001b[1;34m(self, len, buffer)\u001b[0m\n\u001b[0;32m   1128\u001b[0m \u001b[39mtry\u001b[39;00m:\n\u001b[0;32m   1129\u001b[0m     \u001b[39mif\u001b[39;00m buffer \u001b[39mis\u001b[39;00m \u001b[39mnot\u001b[39;00m \u001b[39mNone\u001b[39;00m:\n\u001b[1;32m-> 1130\u001b[0m         \u001b[39mreturn\u001b[39;00m \u001b[39mself\u001b[39;49m\u001b[39m.\u001b[39;49m_sslobj\u001b[39m.\u001b[39;49mread(\u001b[39mlen\u001b[39;49m, buffer)\n\u001b[0;32m   1131\u001b[0m     \u001b[39melse\u001b[39;00m:\n\u001b[0;32m   1132\u001b[0m         \u001b[39mreturn\u001b[39;00m \u001b[39mself\u001b[39m\u001b[39m.\u001b[39m_sslobj\u001b[39m.\u001b[39mread(\u001b[39mlen\u001b[39m)\n",
      "\u001b[1;31mKeyboardInterrupt\u001b[0m: "
     ]
    }
   ],
   "source": [
    "# capabilities = DesiredCapabilities.CHROME\n",
    "# capabilities[\"pageLoadStrategy\"] = \"none\"\n",
    "# browser = start_chrome(headless=True, capabilities=capabilities)\n",
    "# redditImgLinks = getSubredditImgsLinks(redditLinks[0], browser, \"fFbPostsFromReddit\")\n",
    "# browser.quit()"
   ]
  },
  {
   "cell_type": "code",
   "execution_count": 241,
   "metadata": {},
   "outputs": [
    {
     "name": "stdout",
     "output_type": "stream",
     "text": [
      "3128\n"
     ]
    }
   ],
   "source": [
    "redditImgLinks = pklLoad(f'{dataDir}fFbPostsFromReddit.pickle')\n",
    "print(len(redditImgLinks))"
   ]
  },
  {
   "cell_type": "code",
   "execution_count": null,
   "metadata": {},
   "outputs": [],
   "source": [
    "# code to save redditImgLinks into 4. fFbPosts\n",
    "\n",
    "# comment this at the end"
   ]
  },
  {
   "cell_type": "markdown",
   "metadata": {},
   "source": [
    "## Scraping screenshots of Twitter Tweets"
   ]
  },
  {
   "cell_type": "code",
   "execution_count": 242,
   "metadata": {},
   "outputs": [
    {
     "name": "stdout",
     "output_type": "stream",
     "text": [
      "Current #links: 173\n",
      "Current last img link: https://i.redd.it/hqz9id8u3v901.jpg\n",
      "It's creation date:\n",
      "2018-01-13 16:31:52\n",
      "Current #links: 372\n",
      "Current last img link: https://i.redd.it/6y440u35xyu11.png\n",
      "It's creation date:\n",
      "2018-10-28 18:17:09\n",
      "Current #links: 584\n",
      "Current last img link: https://i.redd.it/k4mrtk9ije741.png\n",
      "It's creation date:\n",
      "2019-12-28 16:36:31\n",
      "Current #links: 806\n",
      "Current last img link: https://i.redd.it/aarszeoo9hh51.jpg\n",
      "It's creation date:\n",
      "2020-08-17 02:56:54\n",
      "Current #links: 1022\n",
      "Current last img link: https://i.redd.it/9ubs9h6ud2x61.jpg\n",
      "It's creation date:\n",
      "2021-05-04 08:28:30\n",
      "Current #links: 1232\n",
      "Current last img link: https://i.redd.it/2xoxu2ozxwi81.jpg\n",
      "It's creation date:\n",
      "2022-02-23 17:03:26\n",
      "Current #links: 1338\n",
      "Current last img link: https://i.redd.it/n5vkpyjusin91.jpg\n",
      "It's creation date:\n",
      "2022-09-18 07:58:16\n"
     ]
    }
   ],
   "source": [
    "# capabilities = DesiredCapabilities.CHROME\n",
    "# capabilities[\"pageLoadStrategy\"] = \"none\"\n",
    "# browser = start_chrome(headless=True, capabilities=capabilities)\n",
    "# redditImgLinks = getSubredditImgsLinks(redditLinks[1], browser, \"fTwtrTweetsFromReddit\")\n",
    "# browser.quit()"
   ]
  },
  {
   "cell_type": "code",
   "execution_count": 255,
   "metadata": {},
   "outputs": [
    {
     "name": "stdout",
     "output_type": "stream",
     "text": [
      "1338\n"
     ]
    }
   ],
   "source": [
    "redditImgLinks = pklLoad(f'{dataDir}fTwtrTweetsFromReddit.pickle')\n",
    "print(len(redditImgLinks))"
   ]
  },
  {
   "cell_type": "code",
   "execution_count": null,
   "metadata": {},
   "outputs": [],
   "source": [
    "# code to save redditImgLinks into 5. fTwtrPosts\n",
    "\n",
    "# comment this at the end"
   ]
  },
  {
   "cell_type": "markdown",
   "metadata": {},
   "source": [
    "## Scraping screenshots of Chat Messages"
   ]
  },
  {
   "cell_type": "code",
   "execution_count": 250,
   "metadata": {},
   "outputs": [
    {
     "name": "stdout",
     "output_type": "stream",
     "text": [
      "Current #links: 177\n",
      "Current last img link: https://i.redd.it/wssj5qyzxf6z.jpg\n",
      "It's creation date:\n",
      "2017-06-28 19:51:12\n",
      "Current #links: 354\n",
      "Current last img link: https://i.redd.it/63mzo6c7u7kz.png\n",
      "It's creation date:\n",
      "2017-09-06 18:43:51\n",
      "Current #links: 554\n",
      "Current last img link: https://i.redd.it/859tytmyij001.jpg\n",
      "It's creation date:\n",
      "2017-11-27 15:58:06\n",
      "Current #links: 747\n",
      "Current last img link: https://i.imgur.com/5Gg5FID.jpg\n",
      "It's creation date:\n",
      "2018-02-04 20:41:13\n",
      "Current #links: 963\n",
      "Current last img link: https://i.redd.it/adpxot4wezp01.jpg\n",
      "It's creation date:\n",
      "2018-04-05 00:15:39\n",
      "Current #links: 1160\n",
      "Current last img link: https://i.redd.it/9l505ux1iay01.jpg\n",
      "It's creation date:\n",
      "2018-05-16 21:57:33\n",
      "Current #links: 1366\n",
      "Current last img link: https://i.redd.it/sfwvs6dawo311.png\n",
      "It's creation date:\n",
      "2018-06-13 03:43:12\n",
      "Current #links: 1593\n",
      "Current last img link: https://i.redd.it/506fmb9r3i911.jpg\n",
      "It's creation date:\n",
      "2018-07-12 11:17:05\n",
      "Current #links: 1827\n",
      "Current last img link: https://i.redd.it/b1bo0wdorsd11.png\n",
      "It's creation date:\n",
      "2018-08-03 03:25:29\n",
      "Current #links: 2054\n",
      "Current last img link: https://i.redd.it/5gmszgm5b5h11.jpg\n",
      "It's creation date:\n",
      "2018-08-20 00:48:26\n",
      "Current #links: 2283\n",
      "Current last img link: https://i.redd.it/l297jzdzwgl11.jpg\n",
      "It's creation date:\n",
      "2018-09-10 20:06:56\n",
      "Current #links: 2525\n",
      "Current last img link: https://i.redd.it/3lmn35w33lq11.png\n",
      "It's creation date:\n",
      "2018-10-06 15:29:14\n",
      "Current #links: 2765\n",
      "Current last img link: https://i.redd.it/vee9lp0ko2u11.jpg\n",
      "It's creation date:\n",
      "2018-10-24 05:51:57\n",
      "Current #links: 3005\n",
      "Current last img link: https://i.redd.it/0l8n4lyscmx11.jpg\n",
      "It's creation date:\n",
      "2018-11-11 03:14:09\n",
      "Current #links: 3248\n",
      "Current last img link: https://i.redd.it/ts38xtimyi021.jpg\n",
      "It's creation date:\n",
      "2018-11-25 19:01:42\n",
      "Current #links: 3485\n",
      "Current last img link: https://i.redd.it/5u9zi4prg7421.jpg\n",
      "It's creation date:\n",
      "2018-12-14 08:38:33\n",
      "Current #links: 3728\n",
      "Current last img link: https://i.redd.it/filjbenzek721.jpg\n",
      "It's creation date:\n",
      "2018-12-31 07:25:14\n",
      "Current #links: 3969\n",
      "Current last img link: https://i.redd.it/zxt8p1ucvra21.jpg\n",
      "It's creation date:\n",
      "2019-01-16 11:40:45\n",
      "Current #links: 4213\n",
      "Current last img link: https://i.redd.it/r34bgdyqivd21.jpg\n",
      "It's creation date:\n",
      "2019-02-01 03:09:36\n",
      "Current #links: 4460\n",
      "Current last img link: https://i.redd.it/a3yhegbk74g21.jpg\n",
      "It's creation date:\n",
      "2019-02-12 10:31:21\n",
      "Current #links: 4703\n",
      "Current last img link: https://i.redd.it/fklkt3iu57i21.jpg\n",
      "It's creation date:\n",
      "2019-02-22 22:35:14\n",
      "Current #links: 4945\n",
      "Current last img link: https://i.redd.it/qedn93734xk21.jpg\n",
      "It's creation date:\n",
      "2019-03-08 15:59:57\n",
      "Current #links: 5182\n",
      "Current last img link: https://i.redd.it/14gfs86z7kn21.jpg\n",
      "It's creation date:\n",
      "2019-03-21 23:50:59\n",
      "Current #links: 5418\n",
      "Current last img link: https://i.redd.it/w14z544d5yq21.jpg\n",
      "It's creation date:\n",
      "2019-04-08 01:53:41\n",
      "Current #links: 5663\n",
      "Current last img link: https://i.redd.it/2rbbi7eyatt21.png\n",
      "It's creation date:\n",
      "2019-04-22 12:48:31\n",
      "Current #links: 5908\n",
      "Current last img link: https://i.redd.it/1pl6bqv900x21.png\n",
      "It's creation date:\n",
      "2019-05-08 14:34:18\n",
      "Current #links: 6151\n",
      "Current last img link: https://i.redd.it/9ifh0gjsgb031.jpg\n",
      "It's creation date:\n",
      "2019-05-25 08:18:06\n",
      "Current #links: 6394\n",
      "Current last img link: https://i.redd.it/4c0wetrxe8331.jpg\n",
      "It's creation date:\n",
      "2019-06-09 01:14:48\n",
      "Current #links: 6638\n",
      "Current last img link: https://i.redd.it/whs691vys2631.jpg\n",
      "It's creation date:\n",
      "2019-06-23 09:35:07\n",
      "Current #links: 6884\n",
      "Current last img link: https://i.redd.it/bzlwkhz88x831.jpg\n",
      "It's creation date:\n",
      "2019-07-07 18:02:29\n",
      "Current #links: 7126\n",
      "Current last img link: https://i.redd.it/bm1742hvirb31.jpg\n",
      "It's creation date:\n",
      "2019-07-22 02:03:45\n",
      "Current #links: 7370\n",
      "Current last img link: https://i.redd.it/gebqxd3wzre31.jpg\n",
      "It's creation date:\n",
      "2019-08-06 06:51:32\n",
      "Current #links: 7617\n",
      "Current last img link: https://i.redd.it/48nzvmh266i31.jpg\n",
      "It's creation date:\n",
      "2019-08-23 09:43:32\n",
      "Current #links: 7864\n",
      "Current last img link: https://i.redd.it/2268rmfe4ol31.png\n",
      "It's creation date:\n",
      "2019-09-10 01:19:28\n",
      "Current #links: 8109\n",
      "Current last img link: https://i.redd.it/lrbzql2wezo31.jpg\n",
      "It's creation date:\n",
      "2019-09-26 18:29:27\n",
      "Current #links: 8351\n",
      "Current last img link: https://i.redd.it/v5aq68xn5ws31.jpg\n",
      "It's creation date:\n",
      "2019-10-16 11:48:54\n",
      "Current #links: 8596\n",
      "Current last img link: https://i.redd.it/wh65s6rrfxw31.png\n",
      "It's creation date:\n",
      "2019-11-05 20:23:52\n",
      "Current #links: 8840\n",
      "Current last img link: https://i.redd.it/8m4ju8p9fu141.jpg\n",
      "It's creation date:\n",
      "2019-11-30 15:36:22\n",
      "Current #links: 9079\n",
      "Current last img link: https://i.redd.it/qyts1hchva641.png\n",
      "It's creation date:\n",
      "2019-12-23 10:27:28\n",
      "Current #links: 9322\n",
      "Current last img link: https://i.redd.it/j84xhzges8a41.jpg\n",
      "It's creation date:\n",
      "2020-01-12 00:28:00\n",
      "Current #links: 9566\n",
      "Current last img link: https://i.redd.it/uo8hg5hjyud41.jpg\n",
      "It's creation date:\n",
      "2020-01-30 06:14:02\n",
      "Current #links: 9802\n",
      "Current last img link: https://i.redd.it/dvj2014q6sh41.jpg\n",
      "It's creation date:\n",
      "2020-02-19 01:11:05\n",
      "Current #links: 10047\n",
      "Current last img link: https://i.redd.it/2dqz6cbm4vl41.jpg\n",
      "It's creation date:\n",
      "2020-03-10 15:21:09\n",
      "Current #links: 10287\n",
      "Current last img link: https://i.redd.it/vrh0u6phncp41.jpg\n",
      "It's creation date:\n",
      "2020-03-28 05:29:37\n",
      "Current #links: 10532\n",
      "Current last img link: https://i.redd.it/8hnph1d01it41.jpg\n",
      "It's creation date:\n",
      "2020-04-18 03:50:50\n",
      "Current #links: 10770\n",
      "Current last img link: https://i.redd.it/zxmpbs2f16y41.jpg\n",
      "It's creation date:\n",
      "2020-05-11 16:52:26\n",
      "Current #links: 11016\n",
      "Current last img link: https://i.redd.it/bt2h94tety251.jpg\n",
      "It's creation date:\n",
      "2020-06-04 21:55:45\n",
      "Current #links: 11260\n",
      "Current last img link: https://i.redd.it/bpa7sa7yxv751.jpg\n",
      "It's creation date:\n",
      "2020-06-29 17:36:31\n",
      "Current #links: 11486\n",
      "Current last img link: https://i.redd.it/g95u0ukwwzc51.jpg\n",
      "It's creation date:\n",
      "2020-07-25 12:18:27\n",
      "Current #links: 11700\n",
      "Current last img link: https://i.redd.it/jhu7meydc5h51.jpg\n",
      "It's creation date:\n",
      "2020-08-15 11:06:00\n",
      "Current #links: 11918\n",
      "Current last img link: https://i.redd.it/7n95qzgjn0m51.jpg\n",
      "It's creation date:\n",
      "2020-09-09 00:24:57\n",
      "Current #links: 12131\n",
      "Current last img link: https://i.redd.it/8o5ahh8bbrr51.jpg\n",
      "It's creation date:\n",
      "2020-10-07 23:25:10\n",
      "Current #links: 12344\n",
      "Current last img link: https://i.redd.it/jfb9q9hpuby51.png\n",
      "It's creation date:\n",
      "2020-11-10 02:54:23\n",
      "Current #links: 12560\n",
      "Current last img link: https://i.redd.it/p6o6x2biw7361.jpg\n",
      "It's creation date:\n",
      "2020-12-04 18:57:57\n",
      "Current #links: 12772\n",
      "Current last img link: https://i.redd.it/a51w6t38ac861.jpg\n",
      "It's creation date:\n",
      "2020-12-30 15:02:39\n",
      "Current #links: 12964\n",
      "Current last img link: https://i.redd.it/26o98nrkgkc61.jpg\n",
      "It's creation date:\n",
      "2021-01-21 00:16:52\n",
      "Current #links: 13151\n",
      "Current last img link: https://i.redd.it/4tq0ajg45pi61.jpg\n",
      "It's creation date:\n",
      "2021-02-20 20:58:33\n",
      "Current #links: 13340\n",
      "Current last img link: https://i.redd.it/wadp8p4gniq61.jpg\n",
      "It's creation date:\n",
      "2021-04-01 07:41:51\n",
      "Current #links: 13562\n",
      "Current last img link: https://i.redd.it/ghfjnoe68pw61.jpg\n",
      "It's creation date:\n",
      "2021-05-03 00:00:25\n",
      "Current #links: 13770\n",
      "Current last img link: https://i.redd.it/h1vw0ee5lf271.jpg\n",
      "It's creation date:\n",
      "2021-05-31 15:01:11\n",
      "Current #links: 13976\n",
      "Current last img link: https://i.redd.it/pk95y43keo771.jpg\n",
      "It's creation date:\n",
      "2021-06-26 21:13:02\n",
      "Current #links: 14192\n",
      "Current last img link: https://i.redd.it/azflwr6b2ud71.png\n",
      "It's creation date:\n",
      "2021-07-27 22:39:52\n",
      "Current #links: 14402\n",
      "Current last img link: https://i.redd.it/mr35pun7lpk71.jpg\n",
      "It's creation date:\n",
      "2021-08-31 15:46:47\n",
      "Current #links: 14601\n",
      "Current last img link: https://i.redd.it/5bcghj04ics71.jpg\n",
      "It's creation date:\n",
      "2021-10-09 13:14:04\n",
      "Current #links: 14816\n",
      "Current last img link: https://i.redd.it/dfd6h2e2wfz71.jpg\n",
      "It's creation date:\n",
      "2021-11-13 22:30:53\n",
      "Current #links: 15020\n",
      "Current last img link: https://i.redd.it/guutyfd6qn881.jpg\n",
      "It's creation date:\n",
      "2021-12-30 15:33:07\n",
      "Current #links: 15221\n",
      "Current last img link: https://i.redd.it/7rnmhwhwpfg81.jpg\n",
      "It's creation date:\n",
      "2022-02-07 16:06:36\n",
      "Current #links: 15421\n",
      "Current last img link: https://i.redd.it/adocp486uxo81.jpg\n",
      "It's creation date:\n",
      "2022-03-22 13:36:22\n",
      "Current #links: 15625\n",
      "Current last img link: https://i.redd.it/48gmge54irx81.jpg\n",
      "It's creation date:\n",
      "2022-05-06 01:54:36\n",
      "Current #links: 15827\n",
      "Current last img link: https://i.redd.it/gps7n5t86m591.jpg\n",
      "It's creation date:\n",
      "2022-06-14 22:05:20\n",
      "Current #links: 16040\n",
      "Current last img link: https://i.redd.it/pfce3gmppmc91.jpg\n",
      "It's creation date:\n",
      "2022-07-20 01:50:17\n",
      "Current #links: 16247\n",
      "Current last img link: https://i.redd.it/elnb2d5lz9h91.jpg\n",
      "It's creation date:\n",
      "2022-08-12 12:23:18\n",
      "Current #links: 16457\n",
      "Current last img link: https://i.redd.it/wsd5prrw14m91.jpg\n",
      "It's creation date:\n",
      "2022-09-05 21:46:12\n",
      "Current #links: 16547\n",
      "Current last img link: https://i.redd.it/7xvra0qpcko91.jpg\n",
      "It's creation date:\n",
      "2022-09-18 06:43:29\n"
     ]
    }
   ],
   "source": [
    "# capabilities = DesiredCapabilities.CHROME\n",
    "# capabilities[\"pageLoadStrategy\"] = \"none\"\n",
    "# browser = start_chrome(headless=True, capabilities=capabilities)\n",
    "# redditImgLinks = getSubredditImgsLinks(redditLinks[2], browser, \"fChats0FromReddit\")\n",
    "# browser.quit()"
   ]
  },
  {
   "cell_type": "code",
   "execution_count": 251,
   "metadata": {},
   "outputs": [
    {
     "name": "stdout",
     "output_type": "stream",
     "text": [
      "16547\n"
     ]
    }
   ],
   "source": [
    "redditImgLinks0 = pklLoad(f'{dataDir}fChats0FromReddit.pickle')\n",
    "print(len(redditImgLinks0))"
   ]
  },
  {
   "cell_type": "code",
   "execution_count": 252,
   "metadata": {},
   "outputs": [
    {
     "name": "stdout",
     "output_type": "stream",
     "text": [
      "Current #links: 193\n",
      "Current last img link: https://i.redd.it/gm24u3sa4gyz.jpg\n",
      "It's creation date:\n",
      "2017-11-17 02:22:43\n",
      "Current #links: 399\n",
      "Current last img link: https://i.redd.it/irocl81jaoc01.jpg\n",
      "It's creation date:\n",
      "2018-01-27 20:49:16\n",
      "Current #links: 634\n",
      "Current last img link: https://i.imgur.com/UPbTfuT.jpg\n",
      "It's creation date:\n",
      "2018-03-30 10:18:44\n",
      "Current #links: 873\n",
      "Current last img link: https://i.redd.it/2mc0hytxafx01.jpg\n",
      "It's creation date:\n",
      "2018-05-12 13:02:21\n",
      "Current #links: 1105\n",
      "Current last img link: https://i.redd.it/3t2w7bi8kn511.jpg\n",
      "It's creation date:\n",
      "2018-06-23 13:53:25\n",
      "Current #links: 1345\n",
      "Current last img link: https://i.redd.it/m825xn53mfc11.jpg\n",
      "It's creation date:\n",
      "2018-07-27 06:06:54\n",
      "Current #links: 1573\n",
      "Current last img link: https://i.redd.it/jtn1w7fybjj11.jpg\n",
      "It's creation date:\n",
      "2018-09-01 02:06:09\n",
      "Current #links: 1814\n",
      "Current last img link: https://i.redd.it/yc8d95f6s2r11.jpg\n",
      "It's creation date:\n",
      "2018-10-09 10:03:58\n",
      "Current #links: 2046\n",
      "Current last img link: https://i.redd.it/ew4d5aml8uv11.jpg\n",
      "It's creation date:\n",
      "2018-11-02 03:36:32\n",
      "Current #links: 2266\n",
      "Current last img link: https://i.redd.it/9tchm34ycf021.jpg\n",
      "It's creation date:\n",
      "2018-11-25 17:49:11\n",
      "Current #links: 2492\n",
      "Current last img link: https://i.redd.it/6r4f4n2s6j521.jpg\n",
      "It's creation date:\n",
      "2018-12-21 01:08:05\n",
      "Current #links: 2723\n",
      "Current last img link: https://i.redd.it/5h0k0fxn31a21.jpg\n",
      "It's creation date:\n",
      "2019-01-12 17:39:13\n",
      "Current #links: 2954\n",
      "Current last img link: https://i.redd.it/xbsqzh0mgze21.jpg\n",
      "It's creation date:\n",
      "2019-02-06 17:28:54\n",
      "Current #links: 3183\n",
      "Current last img link: https://i.redd.it/vjby8ux6mek21.jpg\n",
      "It's creation date:\n",
      "2019-03-06 01:47:34\n",
      "Current #links: 3420\n",
      "Current last img link: https://i.redd.it/szrtljw8h0r21.jpg\n",
      "It's creation date:\n",
      "2019-04-08 09:43:52\n",
      "Current #links: 3662\n",
      "Current last img link: https://i.redd.it/1s4z4asqaaz21.jpg\n",
      "It's creation date:\n",
      "2019-05-20 09:40:19\n",
      "Current #links: 3896\n",
      "Current last img link: https://i.redd.it/e8jgcgsog0631.jpg\n",
      "It's creation date:\n",
      "2019-06-23 11:46:41\n",
      "Current #links: 4115\n",
      "Current last img link: https://i.redd.it/ygxntwn8rfc31.jpg\n",
      "It's creation date:\n",
      "2019-07-26 01:59:24\n",
      "Current #links: 4346\n",
      "Current last img link: https://i.redd.it/buc04sg8eoi31.jpg\n",
      "It's creation date:\n",
      "2019-08-25 23:01:21\n",
      "Current #links: 4579\n",
      "Current last img link: https://i.redd.it/ft1n0ogrwdo31.jpg\n",
      "It's creation date:\n",
      "2019-09-24 13:00:45\n",
      "Current #links: 4810\n",
      "Current last img link: https://i.redd.it/aqjm2ars6jt31.jpg\n",
      "It's creation date:\n",
      "2019-10-19 21:00:53\n",
      "Current #links: 5032\n",
      "Current last img link: https://i.redd.it/42ybl99whfz31.jpg\n",
      "It's creation date:\n",
      "2019-11-18 12:58:17\n",
      "Current #links: 5261\n",
      "Current last img link: https://i.redd.it/3e4ynsvbx6741.jpg\n",
      "It's creation date:\n",
      "2019-12-27 14:59:40\n",
      "Current #links: 5499\n",
      "Current last img link: https://i.redd.it/9y6q74uzd0f41.jpg\n",
      "It's creation date:\n",
      "2020-02-05 01:33:40\n",
      "Current #links: 5746\n",
      "Current last img link: https://i.redd.it/pd858oat5on41.jpg\n",
      "It's creation date:\n",
      "2020-03-19 18:03:41\n",
      "Current #links: 5987\n",
      "Current last img link: https://i.redd.it/c29vo48yfg151.jpg\n",
      "It's creation date:\n",
      "2020-05-28 16:44:21\n",
      "Current #links: 6224\n",
      "Current last img link: https://i.redd.it/41e0iej57ka51.jpg\n",
      "It's creation date:\n",
      "2020-07-13 05:19:07\n",
      "Current #links: 6459\n",
      "Current last img link: https://i.redd.it/yi9rwscqzkl51.jpg\n",
      "It's creation date:\n",
      "2020-09-07 02:53:22\n",
      "Current #links: 6687\n",
      "Current last img link: https://i.redd.it/rn0vg62ihk061.jpg\n",
      "It's creation date:\n",
      "2020-11-21 13:37:21\n",
      "Current #links: 6926\n",
      "Current last img link: https://i.redd.it/k1utw49oboa61.jpg\n",
      "It's creation date:\n",
      "2021-01-11 14:44:32\n",
      "Current #links: 7147\n",
      "Current last img link: https://i.redd.it/53onlosyrkn61.jpg\n",
      "It's creation date:\n",
      "2021-03-17 11:38:21\n",
      "Current #links: 7371\n",
      "Current last img link: https://i.redd.it/m2woiwd6vq371.png\n",
      "It's creation date:\n",
      "2021-06-07 04:09:32\n",
      "Current #links: 7592\n",
      "Current last img link: https://i.redd.it/3q1nzdhts7o71.jpg\n",
      "It's creation date:\n",
      "2021-09-18 21:43:00\n",
      "Current #links: 7817\n",
      "Current last img link: https://i.redd.it/o5e0gp693w981.jpg\n",
      "It's creation date:\n",
      "2022-01-06 23:18:18\n",
      "Current #links: 8047\n",
      "Current last img link: https://i.redd.it/hrhgfbtsa1t81.jpg\n",
      "It's creation date:\n",
      "2022-04-12 06:09:53\n",
      "Current #links: 8275\n",
      "Current last img link: https://i.redd.it/z6ie1quytza91.jpg\n",
      "It's creation date:\n",
      "2022-07-11 14:49:12\n",
      "Current #links: 8435\n",
      "Current last img link: https://i.redd.it/kvtg1rqn77o91.jpg\n",
      "It's creation date:\n",
      "2022-09-18 05:18:02\n"
     ]
    }
   ],
   "source": [
    "capabilities = DesiredCapabilities.CHROME\n",
    "capabilities[\"pageLoadStrategy\"] = \"none\"\n",
    "browser = start_chrome(headless=True, capabilities=capabilities)\n",
    "redditImgLinks = getSubredditImgsLinks(redditLinks[3], browser, \"fChats1FromReddit\")\n",
    "browser.quit()\n",
    "# comment this at the end"
   ]
  },
  {
   "cell_type": "code",
   "execution_count": 253,
   "metadata": {},
   "outputs": [
    {
     "name": "stdout",
     "output_type": "stream",
     "text": [
      "8435\n"
     ]
    }
   ],
   "source": [
    "redditImgLinks1 = pklLoad(f'{dataDir}fChats1FromReddit.pickle')\n",
    "print(len(redditImgLinks1))"
   ]
  },
  {
   "cell_type": "code",
   "execution_count": null,
   "metadata": {},
   "outputs": [],
   "source": [
    "#redditImgLinks = redditImgLinks0 + redditImgLinks1\n",
    "# code to save redditImgLinks into 6. fTxtMssgs\n",
    "\n",
    "# comment this at the end"
   ]
  },
  {
   "cell_type": "markdown",
   "metadata": {},
   "source": [
    "# Scraping Greeting & Miscellaneous Images\n",
    "These are images that you see from your family and relatives which you don't need to store for a long period of time :] "
   ]
  },
  {
   "cell_type": "code",
   "execution_count": 197,
   "metadata": {},
   "outputs": [],
   "source": [
    "prevUsedTerms = forceLoadPickle(f'{dataDir}prevGoogleSearchTermsDict.pickle')\n",
    "prevUsedImgLinks = forceLoadPickle(f'{dataDir}prevGoogleImgsDict.pickle')\n",
    "allGoogleImgsLinks = [] # same as prevUsedImgLinks, but a list instead of a dict\n",
    "baseLink = 'https://www.google.com/search?q='\n",
    "imgParameters = '&sxsrf=ALiCzsZLmSQIUVB3D-f2Eqdfn85JCe2tDQ:1663483629074&source=lnms&tbm=isch&sa=X&ved=2ahUKEwjkuLO23536AhUegf0HHWbuAEUQ_AUoAXoECAEQAw&biw=1536&bih=722&dpr=1.25'\n",
    "extraChip = '&chips=g_1:'  # new link structure should be: baseLink + searchTerm + extraChip + imgParameters \n"
   ]
  },
  {
   "cell_type": "code",
   "execution_count": 198,
   "metadata": {},
   "outputs": [],
   "source": [
    "def getSimilarTerms(html, numOfSimilarTerms = 1000): # 1000 is an arbitrary high value\n",
    "    soup = BeautifulSoup(html, 'html.parser')\n",
    "    soup.find_all('div', 'tzVsfd PKhmud sc-it') \n",
    "    cardsText = []\n",
    "    i = 0\n",
    "    for div in soup.find_all('div', 'tzVsfd PKhmud sc-it'): # If this doesn't work, inspect chrome to see new class name and replace it with this one!\n",
    "        if i == numOfSimilarTerms:\n",
    "            break\n",
    "        if div.text not in prevUsedTerms:\n",
    "            cardsText.append(div.text) # don't add this similar term to prevUsedTerms, as it will be added in the getGoogleSinglePageImgsLinks()\n",
    "    return cardsText[:numOfSimilarTerms] # note that [:num_bigger_than_len] will return the full list, not an error, and [:0] will return []"
   ]
  },
  {
   "cell_type": "code",
   "execution_count": 199,
   "metadata": {},
   "outputs": [],
   "source": [
    "def googleScrollTillEnd(browser):\n",
    "    scrollTillEnd(browser)\n",
    "    time.sleep(3)\n",
    "    try:\n",
    "        click(\"See more anyway\")\n",
    "    except:\n",
    "        pass\n",
    "    \n",
    "    scrollTillEnd(browser)\n",
    "\n",
    "    try:\n",
    "        click('Show more results')\n",
    "    except:\n",
    "        pass\n",
    "    scrollTillEnd(browser)\n",
    "    time.sleep(3)\n",
    "    scrollTillEnd(browser) # here, the browser will see \"Looks like you've reached the end\" above the page's footer, or infinite loading svg"
   ]
  },
  {
   "cell_type": "code",
   "execution_count": 195,
   "metadata": {},
   "outputs": [],
   "source": [
    "def getGoogleSinglePageImgsLinks(googleLink, searchTerm, browser):\n",
    "    similarLinks = 0\n",
    "    if searchTerm in prevUsedTerms:\n",
    "        print(\"Already scraped images related to\", searchTerm, end='\\n\\n')\n",
    "        return []\n",
    "    prevUsedTerms[searchTerm] = True\n",
    "    print(\"Scraping imgs for the term:\", searchTerm)\n",
    "    browser.get(googleLink)\n",
    "    time.sleep(2)\n",
    "    googleScrollTillEnd(browser)\n",
    "    soup = BeautifulSoup(browser.page_source, 'html.parser')\n",
    "    links = []\n",
    "    for img in soup.find_all('img', 'rg_i Q4LuWd'): # If this doesn't work, inspect chrome to see new class name and replace it with this one!\n",
    "        link = img.get_attribute_list('src')[0]\n",
    "        if (link is None):\n",
    "            continue\n",
    "        if (link in prevUsedImgLinks):\n",
    "            similarLinks += 1\n",
    "        else:\n",
    "            prevUsedImgLinks[link] = True\n",
    "            links.append(link)\n",
    "    print(f\"Finished! Found {len(links)} images!\")\n",
    "    if similarLinks > 0:\n",
    "        print(f'However, {similarLinks} of them are duplicates! (will be ignored)')\n",
    "    print()\n",
    "    return links"
   ]
  },
  {
   "cell_type": "code",
   "execution_count": 200,
   "metadata": {},
   "outputs": [],
   "source": [
    "def getGooglePagesImgsLinks(searchTerms, browser, numOfSimilarTerms = 1000): # 1000 is an arbitrary high value\n",
    "    for searchTerm in searchTerms:\n",
    "        googleLink = f'{baseLink}{searchTerm}{imgParameters}'\n",
    "        links = getGoogleSinglePageImgsLinks(googleLink, searchTerm, browser)\n",
    "        allGoogleImgsLinks.extend(links)\n",
    "\n",
    "        similarTerms = getSimilarTerms(browser.page_source, numOfSimilarTerms)\n",
    "        for term in similarTerms:\n",
    "            googleLink = f'{baseLink}{searchTerm}{extraChip}{term}{imgParameters}'\n",
    "            links = getGoogleSinglePageImgsLinks(googleLink, term, browser)\n",
    "            allGoogleImgsLinks.extend(links)\n",
    "    pklSave(allGoogleImgsLinks, f'{dataDir}allGoogleGAndMImgLinks.pickle')\n",
    "    pklSave(prevUsedImgLinks, f'{dataDir}prevGoogleImgLinksDict.pickle')\n",
    "    pklSave(prevUsedTerms, f'{dataDir}prevGoogleSearchTermsDict.pickle')\n"
   ]
  },
  {
   "cell_type": "code",
   "execution_count": 191,
   "metadata": {},
   "outputs": [
    {
     "name": "stdout",
     "output_type": "stream",
     "text": [
      "Scraping imgs for the term: صباح الخير\n",
      "Finished! Found 37 images!\n",
      "\n",
      "Scraping imgs for the term: دعاء\n",
      "Finished! Found 38 images!\n",
      "However, 1 of them are duplicates! (will be ignored)\n",
      "\n",
      "Scraping imgs for the term: حبيبي\n",
      "Finished! Found 36 images!\n",
      "\n",
      "Scraping imgs for the term: جمعة مباركة\n",
      "Finished! Found 37 images!\n",
      "\n",
      "Scraping imgs for the term: صباح\n",
      "Finished! Found 37 images!\n",
      "However, 2 of them are duplicates! (will be ignored)\n",
      "\n",
      "Scraping imgs for the term: اجمل\n",
      "Finished! Found 33 images!\n",
      "However, 6 of them are duplicates! (will be ignored)\n",
      "\n"
     ]
    }
   ],
   "source": [
    "searchTerms = [\n",
    "    'صباح الخير',\n",
    "    'جمعة مباركة',\n",
    "    'عيد مبارك',\n",
    "    'عيد سعيد',\n",
    "    'رمضان كريم',\n",
    "    'عيد ميلاد سعيد',\n",
    "    'نكت'\n",
    "]\n",
    "browser = start_chrome(headless=False)\n",
    "getGooglePagesImgsLinks(searchTerms, browser, 5)"
   ]
  },
  {
   "cell_type": "code",
   "execution_count": null,
   "metadata": {},
   "outputs": [],
   "source": [
    "allGoogleImgsLinks = pklLoad(f'{dataDir}allGoogleGAndMImgLinks.pickle')"
   ]
  },
  {
   "cell_type": "code",
   "execution_count": 20,
   "metadata": {},
   "outputs": [],
   "source": [
    "sampleImg = 'data:image/jpeg;base64,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'"
   ]
  },
  {
   "cell_type": "code",
   "execution_count": 21,
   "metadata": {},
   "outputs": [
    {
     "data": {
      "text/plain": [
       "14175"
      ]
     },
     "execution_count": 21,
     "metadata": {},
     "output_type": "execute_result"
    }
   ],
   "source": [
    "len(sampleImg)"
   ]
  }
 ],
 "metadata": {
  "kernelspec": {
   "display_name": "Python 3.10.5 ('.env': venv)",
   "language": "python",
   "name": "python3"
  },
  "language_info": {
   "codemirror_mode": {
    "name": "ipython",
    "version": 3
   },
   "file_extension": ".py",
   "mimetype": "text/x-python",
   "name": "python",
   "nbconvert_exporter": "python",
   "pygments_lexer": "ipython3",
   "version": "3.10.5"
  },
  "orig_nbformat": 4,
  "vscode": {
   "interpreter": {
    "hash": "b5fdb5dc06c166b55a77b4f45331a96b4e71d62bbf9d2ad2353a8ee537ba97fa"
   }
  }
 },
 "nbformat": 4,
 "nbformat_minor": 2
}
